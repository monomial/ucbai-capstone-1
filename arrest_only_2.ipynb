{
 "cells": [
  {
   "cell_type": "markdown",
   "id": "c407877b-006e-447e-b743-c3b729e7a699",
   "metadata": {},
   "source": [
    "# Capstone Project: Police Call Outcome Prediction\n",
    "\n",
    "This notebook explores and analyzes police call data with the goal of predicting outcomes like arrests or citations. The dataset contains various features such as call type, location, and final disposition. Models like Logistic Regression, Random Forest, and others are evaluated for this task.\n",
    "\n",
    "## Data Loading and Initial Exploration\n",
    "\n",
    "In this section, we load the police call dataset for analysis and perform some initial data exploration."
   ]
  },
  {
   "cell_type": "code",
   "execution_count": 153,
   "id": "6bb9c86d-89dc-42c0-99bf-f79ae92868ac",
   "metadata": {},
   "outputs": [],
   "source": [
    "# Import necessary libraries for data manipulation, visualization, and machine learning\n",
    "import warnings\n",
    "warnings.simplefilter(action='ignore', category=FutureWarning)  # Ignore future warnings\n",
    "\n",
    "import glob\n",
    "import matplotlib.pyplot as plt\n",
    "import seaborn as sns\n",
    "import pandas as pd\n",
    "import folium\n",
    "import numpy as np\n",
    "from folium.plugins import HeatMap\n",
    "from statsmodels.tsa.seasonal import seasonal_decompose\n",
    "from sklearn.cluster import KMeans\n",
    "from sklearn.model_selection import train_test_split, GridSearchCV\n",
    "from sklearn.preprocessing import StandardScaler, LabelEncoder, PolynomialFeatures\n",
    "from sklearn.ensemble import RandomForestClassifier\n",
    "from sklearn.metrics import classification_report, accuracy_score, recall_score, f1_score, precision_score, confusion_matrix\n",
    "from sklearn.linear_model import LogisticRegression\n",
    "from sklearn.metrics import ConfusionMatrixDisplay\n",
    "import tensorflow as tf\n",
    "from tensorflow.keras.callbacks import EarlyStopping, ModelCheckpoint\n",
    "from tensorflow.keras.models import Sequential\n",
    "from tensorflow.keras.layers import Dense, Dropout, Input, BatchNormalization\n",
    "from tensorflow.keras import layers, models\n",
    "from tensorflow.keras.regularizers import l2\n",
    "import joblib\n",
    "import keras_tuner as kt\n",
    "from tensorflow import keras"
   ]
  },
  {
   "cell_type": "markdown",
   "id": "7e5b6039-b5e5-44f8-9a11-286a897b66c5",
   "metadata": {},
   "source": [
    "### Data Loading\n",
    "\n",
    "Here, we load the police call data for five years (2018-2022) from CSV files. The data is then concatenated into a single DataFrame for analysis.\n",
    "\n",
    "#### Data Source\n",
    "* San Jose Police Calls For Service: https://data.sanjoseca.gov/dataset/police-calls-for-service."
   ]
  },
  {
   "cell_type": "code",
   "execution_count": 5,
   "id": "b6461c2f-55d2-4f69-990e-8fec4d2851f3",
   "metadata": {},
   "outputs": [
    {
     "name": "stdout",
     "output_type": "stream",
     "text": [
      "length of dataframe = 1539081\n"
     ]
    }
   ],
   "source": [
    "# For testing purposes, just use one year's worth of data\n",
    "police_csv_files = glob.glob(\"data/police/*.neighborhood.csv\")\n",
    "\n",
    "# List to hold dataframes\n",
    "police_dfs = []\n",
    "\n",
    "# Loop through the list of files and read them into dataframes\n",
    "for file in police_csv_files:\n",
    "    df = pd.read_csv(file)\n",
    "    police_dfs.append(df)\n",
    "\n",
    "# Concatenate all dataframes into one\n",
    "all_police_df = pd.concat(police_dfs, ignore_index=True)\n",
    "\n",
    "print(f'length of dataframe = {len(all_police_df)}')"
   ]
  },
  {
   "cell_type": "markdown",
   "id": "e806d1d1-76d5-4ae9-9336-c07ab17fe96b",
   "metadata": {},
   "source": [
    "### Initial Data Exploration\n",
    "\n",
    "We explore a sample of the data and generate summary statistics to get an idea of its structure and contents."
   ]
  },
  {
   "cell_type": "code",
   "execution_count": 7,
   "id": "ad34be09-2de2-44e8-8815-09d2969f86ce",
   "metadata": {},
   "outputs": [
    {
     "data": {
      "text/html": [
       "<div>\n",
       "<style scoped>\n",
       "    .dataframe tbody tr th:only-of-type {\n",
       "        vertical-align: middle;\n",
       "    }\n",
       "\n",
       "    .dataframe tbody tr th {\n",
       "        vertical-align: top;\n",
       "    }\n",
       "\n",
       "    .dataframe thead th {\n",
       "        text-align: right;\n",
       "    }\n",
       "</style>\n",
       "<table border=\"1\" class=\"dataframe\">\n",
       "  <thead>\n",
       "    <tr style=\"text-align: right;\">\n",
       "      <th></th>\n",
       "      <th>CDTS</th>\n",
       "      <th>EID</th>\n",
       "      <th>START_DATE</th>\n",
       "      <th>CALL_NUMBER</th>\n",
       "      <th>PRIORITY</th>\n",
       "      <th>REPORT_DATE</th>\n",
       "      <th>OFFENSE_DATE</th>\n",
       "      <th>OFFENSE_TIME</th>\n",
       "      <th>CALLTYPE_CODE</th>\n",
       "      <th>CALL_TYPE</th>\n",
       "      <th>FINAL_DISPO_CODE</th>\n",
       "      <th>FINAL_DISPO</th>\n",
       "      <th>ADDRESS</th>\n",
       "      <th>CITY</th>\n",
       "      <th>STATE</th>\n",
       "      <th>LATITUDE</th>\n",
       "      <th>LONGITUDE</th>\n",
       "      <th>neighborhood</th>\n",
       "    </tr>\n",
       "  </thead>\n",
       "  <tbody>\n",
       "    <tr>\n",
       "      <th>812278</th>\n",
       "      <td>20210821014809PD</td>\n",
       "      <td>8741224</td>\n",
       "      <td>8/21/2021 12:00:00 AM</td>\n",
       "      <td>P212330070</td>\n",
       "      <td>6</td>\n",
       "      <td>8/21/2021 12:00:00 AM</td>\n",
       "      <td>8/21/2021 12:00:00 AM</td>\n",
       "      <td>01:10:55</td>\n",
       "      <td>1195</td>\n",
       "      <td>VEHICLE STOP</td>\n",
       "      <td>N</td>\n",
       "      <td>No report required; dispatch record only</td>\n",
       "      <td>[1600]-[1700] SARALYNN DR</td>\n",
       "      <td>San Jose</td>\n",
       "      <td>CA</td>\n",
       "      <td>37.314788</td>\n",
       "      <td>-121.821044</td>\n",
       "      <td>West Evergreen</td>\n",
       "    </tr>\n",
       "    <tr>\n",
       "      <th>774376</th>\n",
       "      <td>20210707180252PD</td>\n",
       "      <td>8682611</td>\n",
       "      <td>7/7/2021 12:00:00 AM</td>\n",
       "      <td>P211880761</td>\n",
       "      <td>2</td>\n",
       "      <td>7/7/2021 12:00:00 AM</td>\n",
       "      <td>7/7/2021 12:00:00 AM</td>\n",
       "      <td>16:53:22</td>\n",
       "      <td>WELCK</td>\n",
       "      <td>WELFARE CHECK</td>\n",
       "      <td>N</td>\n",
       "      <td>No report required; dispatch record only</td>\n",
       "      <td>[200]-[300] MONTCLAIR AV</td>\n",
       "      <td>San Jose</td>\n",
       "      <td>CA</td>\n",
       "      <td>37.365508</td>\n",
       "      <td>-121.846944</td>\n",
       "      <td>Alexian and Jackson</td>\n",
       "    </tr>\n",
       "    <tr>\n",
       "      <th>266801</th>\n",
       "      <td>20181026233923PD</td>\n",
       "      <td>7403281</td>\n",
       "      <td>5/14/2021 12:00:00 AM</td>\n",
       "      <td>P182991085</td>\n",
       "      <td>4</td>\n",
       "      <td>10/26/2018 12:00:00 AM</td>\n",
       "      <td>10/26/2018 12:00:00 AM</td>\n",
       "      <td>21:58:57</td>\n",
       "      <td>415</td>\n",
       "      <td>DISTURBANCE</td>\n",
       "      <td>G</td>\n",
       "      <td>Gone on Arrival/unable to loca</td>\n",
       "      <td>[500]-[600] HORNING ST</td>\n",
       "      <td>San Jose</td>\n",
       "      <td>CA</td>\n",
       "      <td>37.361194</td>\n",
       "      <td>-121.893044</td>\n",
       "      <td>Hyde Park</td>\n",
       "    </tr>\n",
       "    <tr>\n",
       "      <th>295496</th>\n",
       "      <td>20181129194713PS</td>\n",
       "      <td>7447211</td>\n",
       "      <td>5/14/2021 12:00:00 AM</td>\n",
       "      <td>P183330770</td>\n",
       "      <td>2</td>\n",
       "      <td>11/29/2018 12:00:00 AM</td>\n",
       "      <td>11/29/2018 12:00:00 AM</td>\n",
       "      <td>19:18:25</td>\n",
       "      <td>415F</td>\n",
       "      <td>DISTURBANCE, FAMILY</td>\n",
       "      <td>N</td>\n",
       "      <td>No report required; dispatch r</td>\n",
       "      <td>[300]-[400] TRADEWINDS DR</td>\n",
       "      <td>San Jose</td>\n",
       "      <td>CA</td>\n",
       "      <td>37.253720</td>\n",
       "      <td>-121.826375</td>\n",
       "      <td>Oak Grove</td>\n",
       "    </tr>\n",
       "    <tr>\n",
       "      <th>1503016</th>\n",
       "      <td>20221113195125PS</td>\n",
       "      <td>9324418</td>\n",
       "      <td>11/13/2022 12:00:00 AM</td>\n",
       "      <td>P223170635</td>\n",
       "      <td>2</td>\n",
       "      <td>11/13/2022 12:00:00 AM</td>\n",
       "      <td>11/13/2022 12:00:00 AM</td>\n",
       "      <td>19:15:16</td>\n",
       "      <td>WELCK</td>\n",
       "      <td>WELFARE CHECK</td>\n",
       "      <td>N</td>\n",
       "      <td>No report required; dispatch record only</td>\n",
       "      <td>[2300]-[2400] ALUM ROCK AV</td>\n",
       "      <td>San Jose</td>\n",
       "      <td>CA</td>\n",
       "      <td>37.349547</td>\n",
       "      <td>-121.862248</td>\n",
       "      <td>Five Wounds-San Jose High</td>\n",
       "    </tr>\n",
       "  </tbody>\n",
       "</table>\n",
       "</div>"
      ],
      "text/plain": [
       "                     CDTS      EID              START_DATE CALL_NUMBER  \\\n",
       "812278   20210821014809PD  8741224   8/21/2021 12:00:00 AM  P212330070   \n",
       "774376   20210707180252PD  8682611    7/7/2021 12:00:00 AM  P211880761   \n",
       "266801   20181026233923PD  7403281   5/14/2021 12:00:00 AM  P182991085   \n",
       "295496   20181129194713PS  7447211   5/14/2021 12:00:00 AM  P183330770   \n",
       "1503016  20221113195125PS  9324418  11/13/2022 12:00:00 AM  P223170635   \n",
       "\n",
       "         PRIORITY             REPORT_DATE            OFFENSE_DATE  \\\n",
       "812278          6   8/21/2021 12:00:00 AM   8/21/2021 12:00:00 AM   \n",
       "774376          2    7/7/2021 12:00:00 AM    7/7/2021 12:00:00 AM   \n",
       "266801          4  10/26/2018 12:00:00 AM  10/26/2018 12:00:00 AM   \n",
       "295496          2  11/29/2018 12:00:00 AM  11/29/2018 12:00:00 AM   \n",
       "1503016         2  11/13/2022 12:00:00 AM  11/13/2022 12:00:00 AM   \n",
       "\n",
       "        OFFENSE_TIME CALLTYPE_CODE            CALL_TYPE FINAL_DISPO_CODE  \\\n",
       "812278      01:10:55          1195         VEHICLE STOP                N   \n",
       "774376      16:53:22         WELCK        WELFARE CHECK                N   \n",
       "266801      21:58:57           415          DISTURBANCE                G   \n",
       "295496      19:18:25          415F  DISTURBANCE, FAMILY                N   \n",
       "1503016     19:15:16         WELCK        WELFARE CHECK                N   \n",
       "\n",
       "                                      FINAL_DISPO  \\\n",
       "812278   No report required; dispatch record only   \n",
       "774376   No report required; dispatch record only   \n",
       "266801             Gone on Arrival/unable to loca   \n",
       "295496             No report required; dispatch r   \n",
       "1503016  No report required; dispatch record only   \n",
       "\n",
       "                             ADDRESS      CITY STATE   LATITUDE   LONGITUDE  \\\n",
       "812278    [1600]-[1700] SARALYNN DR   San Jose    CA  37.314788 -121.821044   \n",
       "774376     [200]-[300] MONTCLAIR AV   San Jose    CA  37.365508 -121.846944   \n",
       "266801        [500]-[600] HORNING ST  San Jose    CA  37.361194 -121.893044   \n",
       "295496     [300]-[400] TRADEWINDS DR  San Jose    CA  37.253720 -121.826375   \n",
       "1503016  [2300]-[2400] ALUM ROCK AV   San Jose    CA  37.349547 -121.862248   \n",
       "\n",
       "                      neighborhood  \n",
       "812278              West Evergreen  \n",
       "774376         Alexian and Jackson  \n",
       "266801                   Hyde Park  \n",
       "295496                   Oak Grove  \n",
       "1503016  Five Wounds-San Jose High  "
      ]
     },
     "execution_count": 7,
     "metadata": {},
     "output_type": "execute_result"
    }
   ],
   "source": [
    "all_police_df.sample(5)"
   ]
  },
  {
   "cell_type": "code",
   "execution_count": 8,
   "id": "2f266945-c69f-418c-a45d-bc2c989ee4d9",
   "metadata": {},
   "outputs": [
    {
     "name": "stdout",
     "output_type": "stream",
     "text": [
      "<class 'pandas.core.frame.DataFrame'>\n",
      "RangeIndex: 1539081 entries, 0 to 1539080\n",
      "Data columns (total 18 columns):\n",
      " #   Column            Non-Null Count    Dtype  \n",
      "---  ------            --------------    -----  \n",
      " 0   CDTS              1539081 non-null  object \n",
      " 1   EID               1539081 non-null  int64  \n",
      " 2   START_DATE        1539081 non-null  object \n",
      " 3   CALL_NUMBER       1539081 non-null  object \n",
      " 4   PRIORITY          1539081 non-null  int64  \n",
      " 5   REPORT_DATE       1539081 non-null  object \n",
      " 6   OFFENSE_DATE      1539081 non-null  object \n",
      " 7   OFFENSE_TIME      1539081 non-null  object \n",
      " 8   CALLTYPE_CODE     1539081 non-null  object \n",
      " 9   CALL_TYPE         1539052 non-null  object \n",
      " 10  FINAL_DISPO_CODE  1539081 non-null  object \n",
      " 11  FINAL_DISPO       1539081 non-null  object \n",
      " 12  ADDRESS           1493196 non-null  object \n",
      " 13  CITY              1539081 non-null  object \n",
      " 14  STATE             1539081 non-null  object \n",
      " 15  LATITUDE          1382253 non-null  float64\n",
      " 16  LONGITUDE         1382253 non-null  float64\n",
      " 17  neighborhood      1375316 non-null  object \n",
      "dtypes: float64(2), int64(2), object(14)\n",
      "memory usage: 211.4+ MB\n"
     ]
    }
   ],
   "source": [
    "all_police_df.info()"
   ]
  },
  {
   "cell_type": "code",
   "execution_count": 13,
   "id": "af2d12fd-5a98-4654-924a-a4fbdb90d27b",
   "metadata": {},
   "outputs": [
    {
     "data": {
      "text/html": [
       "<div>\n",
       "<style scoped>\n",
       "    .dataframe tbody tr th:only-of-type {\n",
       "        vertical-align: middle;\n",
       "    }\n",
       "\n",
       "    .dataframe tbody tr th {\n",
       "        vertical-align: top;\n",
       "    }\n",
       "\n",
       "    .dataframe thead th {\n",
       "        text-align: right;\n",
       "    }\n",
       "</style>\n",
       "<table border=\"1\" class=\"dataframe\">\n",
       "  <thead>\n",
       "    <tr style=\"text-align: right;\">\n",
       "      <th></th>\n",
       "      <th>EID</th>\n",
       "      <th>PRIORITY</th>\n",
       "      <th>LATITUDE</th>\n",
       "      <th>LONGITUDE</th>\n",
       "    </tr>\n",
       "  </thead>\n",
       "  <tbody>\n",
       "    <tr>\n",
       "      <th>count</th>\n",
       "      <td>1.539081e+06</td>\n",
       "      <td>1.539081e+06</td>\n",
       "      <td>1.382253e+06</td>\n",
       "      <td>1.382253e+06</td>\n",
       "    </tr>\n",
       "    <tr>\n",
       "      <th>mean</th>\n",
       "      <td>8.180701e+06</td>\n",
       "      <td>3.306330e+00</td>\n",
       "      <td>3.732166e+01</td>\n",
       "      <td>-1.218714e+02</td>\n",
       "    </tr>\n",
       "    <tr>\n",
       "      <th>std</th>\n",
       "      <td>6.868815e+05</td>\n",
       "      <td>1.403320e+00</td>\n",
       "      <td>4.271746e-02</td>\n",
       "      <td>4.756362e-02</td>\n",
       "    </tr>\n",
       "    <tr>\n",
       "      <th>min</th>\n",
       "      <td>7.000038e+06</td>\n",
       "      <td>1.000000e+00</td>\n",
       "      <td>3.401807e+01</td>\n",
       "      <td>-1.220357e+02</td>\n",
       "    </tr>\n",
       "    <tr>\n",
       "      <th>25%</th>\n",
       "      <td>7.585737e+06</td>\n",
       "      <td>2.000000e+00</td>\n",
       "      <td>3.729838e+01</td>\n",
       "      <td>-1.219025e+02</td>\n",
       "    </tr>\n",
       "    <tr>\n",
       "      <th>50%</th>\n",
       "      <td>8.180582e+06</td>\n",
       "      <td>3.000000e+00</td>\n",
       "      <td>3.732482e+01</td>\n",
       "      <td>-1.218696e+02</td>\n",
       "    </tr>\n",
       "    <tr>\n",
       "      <th>75%</th>\n",
       "      <td>8.772205e+06</td>\n",
       "      <td>4.000000e+00</td>\n",
       "      <td>3.734928e+01</td>\n",
       "      <td>-1.218387e+02</td>\n",
       "    </tr>\n",
       "    <tr>\n",
       "      <th>max</th>\n",
       "      <td>9.383082e+06</td>\n",
       "      <td>6.000000e+00</td>\n",
       "      <td>3.753923e+01</td>\n",
       "      <td>-1.179118e+02</td>\n",
       "    </tr>\n",
       "  </tbody>\n",
       "</table>\n",
       "</div>"
      ],
      "text/plain": [
       "                EID      PRIORITY      LATITUDE     LONGITUDE\n",
       "count  1.539081e+06  1.539081e+06  1.382253e+06  1.382253e+06\n",
       "mean   8.180701e+06  3.306330e+00  3.732166e+01 -1.218714e+02\n",
       "std    6.868815e+05  1.403320e+00  4.271746e-02  4.756362e-02\n",
       "min    7.000038e+06  1.000000e+00  3.401807e+01 -1.220357e+02\n",
       "25%    7.585737e+06  2.000000e+00  3.729838e+01 -1.219025e+02\n",
       "50%    8.180582e+06  3.000000e+00  3.732482e+01 -1.218696e+02\n",
       "75%    8.772205e+06  4.000000e+00  3.734928e+01 -1.218387e+02\n",
       "max    9.383082e+06  6.000000e+00  3.753923e+01 -1.179118e+02"
      ]
     },
     "execution_count": 13,
     "metadata": {},
     "output_type": "execute_result"
    }
   ],
   "source": [
    "all_police_df.describe()"
   ]
  },
  {
   "cell_type": "code",
   "execution_count": 15,
   "id": "0faa16c8-209f-4302-bcad-2e2816fae03a",
   "metadata": {},
   "outputs": [
    {
     "data": {
      "text/html": [
       "<div>\n",
       "<style scoped>\n",
       "    .dataframe tbody tr th:only-of-type {\n",
       "        vertical-align: middle;\n",
       "    }\n",
       "\n",
       "    .dataframe tbody tr th {\n",
       "        vertical-align: top;\n",
       "    }\n",
       "\n",
       "    .dataframe thead th {\n",
       "        text-align: right;\n",
       "    }\n",
       "</style>\n",
       "<table border=\"1\" class=\"dataframe\">\n",
       "  <thead>\n",
       "    <tr style=\"text-align: right;\">\n",
       "      <th></th>\n",
       "      <th>CDTS</th>\n",
       "      <th>START_DATE</th>\n",
       "      <th>CALL_NUMBER</th>\n",
       "      <th>REPORT_DATE</th>\n",
       "      <th>OFFENSE_DATE</th>\n",
       "      <th>OFFENSE_TIME</th>\n",
       "      <th>CALLTYPE_CODE</th>\n",
       "      <th>CALL_TYPE</th>\n",
       "      <th>FINAL_DISPO_CODE</th>\n",
       "      <th>FINAL_DISPO</th>\n",
       "      <th>ADDRESS</th>\n",
       "      <th>CITY</th>\n",
       "      <th>STATE</th>\n",
       "      <th>neighborhood</th>\n",
       "    </tr>\n",
       "  </thead>\n",
       "  <tbody>\n",
       "    <tr>\n",
       "      <th>count</th>\n",
       "      <td>1539081</td>\n",
       "      <td>1539081</td>\n",
       "      <td>1539081</td>\n",
       "      <td>1539081</td>\n",
       "      <td>1539081</td>\n",
       "      <td>1539081</td>\n",
       "      <td>1539081</td>\n",
       "      <td>1539052</td>\n",
       "      <td>1539081</td>\n",
       "      <td>1539081</td>\n",
       "      <td>1493196</td>\n",
       "      <td>1539081</td>\n",
       "      <td>1539081</td>\n",
       "      <td>1375316</td>\n",
       "    </tr>\n",
       "    <tr>\n",
       "      <th>unique</th>\n",
       "      <td>1529044</td>\n",
       "      <td>557</td>\n",
       "      <td>1507152</td>\n",
       "      <td>1820</td>\n",
       "      <td>1820</td>\n",
       "      <td>86381</td>\n",
       "      <td>223</td>\n",
       "      <td>238</td>\n",
       "      <td>22</td>\n",
       "      <td>25</td>\n",
       "      <td>67985</td>\n",
       "      <td>1</td>\n",
       "      <td>1</td>\n",
       "      <td>295</td>\n",
       "    </tr>\n",
       "    <tr>\n",
       "      <th>top</th>\n",
       "      <td>20221204123543PS</td>\n",
       "      <td>5/14/2021 12:00:00 AM</td>\n",
       "      <td>P221220700</td>\n",
       "      <td>7/4/2021 12:00:00 AM</td>\n",
       "      <td>7/4/2021 12:00:00 AM</td>\n",
       "      <td>18:15:00</td>\n",
       "      <td>415</td>\n",
       "      <td>DISTURBANCE</td>\n",
       "      <td>N</td>\n",
       "      <td>No report required; dispatch r</td>\n",
       "      <td>[200]-[300] W MISSION ST</td>\n",
       "      <td>San Jose</td>\n",
       "      <td>CA</td>\n",
       "      <td>Spartan Keyes and Wool Creek</td>\n",
       "    </tr>\n",
       "    <tr>\n",
       "      <th>freq</th>\n",
       "      <td>4</td>\n",
       "      <td>644989</td>\n",
       "      <td>7</td>\n",
       "      <td>1116</td>\n",
       "      <td>1116</td>\n",
       "      <td>47</td>\n",
       "      <td>151902</td>\n",
       "      <td>151900</td>\n",
       "      <td>710509</td>\n",
       "      <td>483883</td>\n",
       "      <td>4479</td>\n",
       "      <td>1539081</td>\n",
       "      <td>1539081</td>\n",
       "      <td>42998</td>\n",
       "    </tr>\n",
       "  </tbody>\n",
       "</table>\n",
       "</div>"
      ],
      "text/plain": [
       "                    CDTS             START_DATE CALL_NUMBER  \\\n",
       "count            1539081                1539081     1539081   \n",
       "unique           1529044                    557     1507152   \n",
       "top     20221204123543PS  5/14/2021 12:00:00 AM  P221220700   \n",
       "freq                   4                 644989           7   \n",
       "\n",
       "                 REPORT_DATE          OFFENSE_DATE OFFENSE_TIME CALLTYPE_CODE  \\\n",
       "count                1539081               1539081      1539081       1539081   \n",
       "unique                  1820                  1820        86381           223   \n",
       "top     7/4/2021 12:00:00 AM  7/4/2021 12:00:00 AM     18:15:00           415   \n",
       "freq                    1116                  1116           47        151902   \n",
       "\n",
       "          CALL_TYPE FINAL_DISPO_CODE                     FINAL_DISPO  \\\n",
       "count       1539052          1539081                         1539081   \n",
       "unique          238               22                              25   \n",
       "top     DISTURBANCE                N  No report required; dispatch r   \n",
       "freq         151900           710509                          483883   \n",
       "\n",
       "                         ADDRESS      CITY    STATE  \\\n",
       "count                    1493196   1539081  1539081   \n",
       "unique                     67985         1        1   \n",
       "top     [200]-[300] W MISSION ST  San Jose       CA   \n",
       "freq                        4479   1539081  1539081   \n",
       "\n",
       "                        neighborhood  \n",
       "count                        1375316  \n",
       "unique                           295  \n",
       "top     Spartan Keyes and Wool Creek  \n",
       "freq                           42998  "
      ]
     },
     "execution_count": 15,
     "metadata": {},
     "output_type": "execute_result"
    }
   ],
   "source": [
    "all_police_df.describe(include='object')"
   ]
  },
  {
   "cell_type": "code",
   "execution_count": 16,
   "id": "34e473e1-4d0e-4122-850d-b2e31332dadf",
   "metadata": {},
   "outputs": [
    {
     "data": {
      "image/png": "[encoded data removed]",
      "text/plain": [
       "<Figure size 1200x1000 with 4 Axes>"
      ]
     },
     "metadata": {},
     "output_type": "display_data"
    }
   ],
   "source": [
    "# Plot histograms for numeric columns\n",
    "all_police_df.hist(figsize=(12, 10), bins=30, edgecolor='black')\n",
    "plt.suptitle('Distributions of Numeric Features')\n",
    "plt.show()"
   ]
  },
  {
   "cell_type": "code",
   "execution_count": 17,
   "id": "ab84fc38-e717-4dd3-a24a-2ed5c8e98e87",
   "metadata": {},
   "outputs": [
    {
     "data": {
      "text/plain": [
       "CDTS                     0\n",
       "EID                      0\n",
       "START_DATE               0\n",
       "CALL_NUMBER              0\n",
       "PRIORITY                 0\n",
       "REPORT_DATE              0\n",
       "OFFENSE_DATE             0\n",
       "OFFENSE_TIME             0\n",
       "CALLTYPE_CODE            0\n",
       "CALL_TYPE               29\n",
       "FINAL_DISPO_CODE         0\n",
       "FINAL_DISPO              0\n",
       "ADDRESS              45885\n",
       "CITY                     0\n",
       "STATE                    0\n",
       "LATITUDE            156828\n",
       "LONGITUDE           156828\n",
       "neighborhood        163765\n",
       "dtype: int64"
      ]
     },
     "execution_count": 17,
     "metadata": {},
     "output_type": "execute_result"
    }
   ],
   "source": [
    "missing_data = all_police_df.isnull().sum()\n",
    "missing_data"
   ]
  },
  {
   "cell_type": "code",
   "execution_count": 18,
   "id": "3dc4d05f-1c83-452f-a4b8-c5a52db0e2a7",
   "metadata": {},
   "outputs": [
    {
     "data": {
      "image/png": "[encoded data removed]",
      "text/plain": [
       "<Figure size 1000x600 with 1 Axes>"
      ]
     },
     "metadata": {},
     "output_type": "display_data"
    }
   ],
   "source": [
    "# Visualize missing data\n",
    "plt.figure(figsize=(10, 6))\n",
    "sns.heatmap(all_police_df.isnull(), cbar=False, cmap='viridis')\n",
    "plt.title('Missing Data Heatmap')\n",
    "plt.show()"
   ]
  },
  {
   "cell_type": "code",
   "execution_count": 19,
   "id": "2586a98e-d8a6-4336-a475-7156da0628dd",
   "metadata": {},
   "outputs": [
    {
     "name": "stdout",
     "output_type": "stream",
     "text": [
      "CDTS: 1529044 unique values\n",
      "START_DATE: 557 unique values\n",
      "CALL_NUMBER: 1507152 unique values\n",
      "REPORT_DATE: 1820 unique values\n",
      "OFFENSE_DATE: 1820 unique values\n",
      "OFFENSE_TIME: 86381 unique values\n",
      "CALLTYPE_CODE: 223 unique values\n",
      "CALL_TYPE: 238 unique values\n",
      "FINAL_DISPO_CODE: 22 unique values\n",
      "FINAL_DISPO: 25 unique values\n",
      "ADDRESS: 67985 unique values\n",
      "CITY: 1 unique values\n",
      "STATE: 1 unique values\n",
      "neighborhood: 295 unique values\n"
     ]
    }
   ],
   "source": [
    "for column in all_police_df.select_dtypes(include=['object']).columns:\n",
    "    unique_values = all_police_df[column].nunique()\n",
    "    print(f'{column}: {unique_values} unique values')"
   ]
  },
  {
   "cell_type": "code",
   "execution_count": 23,
   "id": "85b8660b-c45d-4346-a73f-5810599d9bcb",
   "metadata": {},
   "outputs": [
    {
     "data": {
      "text/plain": [
       "FINAL_DISPO_CODE\n",
       "N          710509\n",
       "CAN        241059\n",
       "R          174946\n",
       "G           91422\n",
       "D           47185\n",
       "E           44456\n",
       "O           29029\n",
       "A           27573\n",
       "DUPNCAN     26535\n",
       "GD          22855\n",
       "U           20810\n",
       "NR          19676\n",
       "H           18966\n",
       "C           16213\n",
       "T           15193\n",
       "ADV         14145\n",
       "B           13193\n",
       "F            4412\n",
       "M             317\n",
       "Z             278\n",
       "P             218\n",
       "TOT            91\n",
       "Name: count, dtype: int64"
      ]
     },
     "execution_count": 23,
     "metadata": {},
     "output_type": "execute_result"
    }
   ],
   "source": [
    "all_police_df['FINAL_DISPO_CODE'].value_counts()"
   ]
  },
  {
   "cell_type": "code",
   "execution_count": 24,
   "id": "83a04b4d-886e-40be-b3cd-7c9c69ff1650",
   "metadata": {},
   "outputs": [
    {
     "data": {
      "image/png": "[encoded data removed]",
      "text/plain": [
       "<Figure size 1000x600 with 1 Axes>"
      ]
     },
     "metadata": {},
     "output_type": "display_data"
    }
   ],
   "source": [
    "# Bar plot for target variable (FINAL_DISPO_CODE)\n",
    "plt.figure(figsize=(10, 6))\n",
    "sns.countplot(data=all_police_df, x='FINAL_DISPO_CODE', order=all_police_df['FINAL_DISPO_CODE'].value_counts().index)\n",
    "plt.title('Distribution of Final Disposition Codes')\n",
    "plt.xticks(rotation=45)\n",
    "plt.show()"
   ]
  },
  {
   "cell_type": "code",
   "execution_count": 25,
   "id": "7c3ccd71-aa20-4f90-8321-be1e848aa84c",
   "metadata": {},
   "outputs": [
    {
     "data": {
      "text/plain": [
       "FINAL_DISPO\n",
       "No report required; dispatch r                      483883\n",
       "Canceled                                            241059\n",
       "No report required; dispatch record only            226626\n",
       "Report taken                                        174946\n",
       "Gone on Arrival/unable to loca                       66373\n",
       "No Disposition                                       63904\n",
       "Traffic Citation Issued, Non-H                       34966\n",
       "Supplemental report taken                            29029\n",
       "Traffic Citation Issued, Hazar                       27920\n",
       "Arrest Made                                          27573\n",
       "Gone on Arrival/unable to locate                     25049\n",
       "Unfounded event                                      20810\n",
       "No Response                                          19676\n",
       "Traffic Citation Issued, Hazardous Violation         19265\n",
       "Criminal Citation                                    16213\n",
       "Turned over To (TOT)                                 15193\n",
       "Courtesy Service/Citizen or ag                       13749\n",
       "Arrest by Warrant                                    13193\n",
       "Traffic Citation Issued, Non-Hazardous Violation      9490\n",
       "Courtesy Service/Citizen or agency assist             5217\n",
       "Field Interview (F.I.) Complet                        3219\n",
       "Field Interview (F.I.) Completed                      1193\n",
       "Stranded motorist assist                               317\n",
       "Prior case, follow-up activity                         174\n",
       "Prior case, follow-up activity only                     44\n",
       "Name: count, dtype: int64"
      ]
     },
     "execution_count": 25,
     "metadata": {},
     "output_type": "execute_result"
    }
   ],
   "source": [
    "all_police_df['FINAL_DISPO'].value_counts()"
   ]
  },
  {
   "cell_type": "code",
   "execution_count": 26,
   "id": "42e19b4d-73a6-4024-b926-4263b707015b",
   "metadata": {},
   "outputs": [
    {
     "data": {
      "text/plain": [
       "{'N': 'No report required; dispatch record only',\n",
       " 'NR': 'No Response',\n",
       " 'CAN': 'Canceled',\n",
       " 'R': 'Report taken',\n",
       " 'G': 'Gone on Arrival/unable to locate',\n",
       " 'H': 'Courtesy Service/Citizen or agency assist',\n",
       " 'GD': 'No Disposition',\n",
       " 'DUPNCAN': 'No Disposition',\n",
       " 'O': 'Supplemental report taken',\n",
       " 'T': 'Turned over To (TOT)',\n",
       " 'A': 'Arrest Made',\n",
       " 'U': 'Unfounded event',\n",
       " 'B': 'Arrest by Warrant',\n",
       " 'E': 'Traffic Citation Issued, Non-Hazardous Violation',\n",
       " 'ADV': 'No Disposition',\n",
       " 'D': 'Traffic Citation Issued, Hazardous Violation',\n",
       " 'C': 'Criminal Citation',\n",
       " 'F': 'Field Interview (F.I.) Completed',\n",
       " 'Z': 'No Disposition',\n",
       " 'M': 'Stranded motorist assist',\n",
       " 'P': 'Prior case, follow-up activity only',\n",
       " 'TOT': 'No Disposition'}"
      ]
     },
     "execution_count": 26,
     "metadata": {},
     "output_type": "execute_result"
    }
   ],
   "source": [
    "# Create a mapping between FINAL_DISPO_CODE and FINAL_DISPO\n",
    "final_dispo_mapping = dict(zip(all_police_df['FINAL_DISPO_CODE'], all_police_df['FINAL_DISPO']))\n",
    "final_dispo_mapping"
   ]
  },
  {
   "cell_type": "code",
   "execution_count": 28,
   "id": "bbf2a3fb-f2dd-4927-83f5-f0fad6eaba3f",
   "metadata": {},
   "outputs": [
    {
     "data": {
      "text/plain": [
       "{'FDAID': 'FIRE DEPARTMENT REQUEST FOR PD',\n",
       " '1033A': 'ALARM, AUDIBLE',\n",
       " '415M': 'DISTURBANCE, MUSIC',\n",
       " '415FC': 'DISTURBANCE, FIRECRACKERS',\n",
       " '1057': 'FIREARMS DISCHARGED',\n",
       " 'DVRO': 'VIOLATION OF PROTECTIVE ORDER',\n",
       " '415': 'DISTURBANCE',\n",
       " '1182': 'VEHICLE ACCIDENT, PROPERTY DAMAGE',\n",
       " '5150': 'MENTALLY DISTURBED PERSON',\n",
       " '23103': 'RECKLESS DRIVING',\n",
       " '415UNK': 'DISTURBANCE, UNKNOWN',\n",
       " '242': 'BATTERY',\n",
       " '415F': 'DISTURBANCE, FAMILY',\n",
       " '10851': 'STOLEN VEHICLE',\n",
       " 'AID': 'PUBLIC SAFETY ASSISTANCE',\n",
       " '1070': 'PROWLER',\n",
       " '415W': 'DISTURBANCE, WEAPON',\n",
       " '1066': 'SUSPICIOUS PERSON',\n",
       " 'WELCK': 'WELFARE CHECK',\n",
       " '415A': 'DISTURBANCE, FIGHT',\n",
       " '911UNK': 'UNK TYPE 911 CALL',\n",
       " '1195': 'VEHICLE STOP',\n",
       " '20002': 'MISDEMEANOR HIT AND RUN',\n",
       " '415AEMS': 'DISTURBANCE, FIGHT (COMBINED EVENT)',\n",
       " '1125': 'TRAFFIC HAZARD',\n",
       " 'SUSCIR': 'SUSPICIOUS CIRCUMSTANCES',\n",
       " '1091C': 'INJURED ANIMAL',\n",
       " '246': 'SHOOTING INTO OCCP VEH OR DWELLING',\n",
       " '23152': 'MISDEMEANOR DUI',\n",
       " '1091A': 'VICIOUS ANIMAL',\n",
       " '6F': 'FELONY WANT',\n",
       " '484BOL': 'PETTY THEFT (BROADCAST ONLY)',\n",
       " '459R': 'BURGLARY  REPORT  (460)',\n",
       " '1062': 'MEET THE CITIZEN',\n",
       " '22500': 'PARKING VIOLATION',\n",
       " '459': 'BURGLARY (460)',\n",
       " '245': 'ASSAULT WITH DEADLY WEAPON',\n",
       " '1067X': 'FEMALE CALLING FOR HELP',\n",
       " '23153': 'FELONY DUI',\n",
       " '242EMS': 'BATTERY (COMBINED EVENT)',\n",
       " '211SA': 'STRONG ARM ROBBERY',\n",
       " '22507': 'HANDICAPPED PARKING VIOLATION',\n",
       " '415FEMS': 'DISTURBANCE, FAMILY (COMBINED EVENT)',\n",
       " 'WELCKEMS': 'WELFARE CHECK (COMBINED EVENT)',\n",
       " '10851R': 'RECOVERED STOLEN VEHICLE',\n",
       " '20001': 'FELONY HIT AND RUN',\n",
       " '211': 'ROBBERY',\n",
       " '1154': 'SUSPICIOUS VEHICLE',\n",
       " '1033S': 'ALARM, SILENT',\n",
       " '1080': 'EXPLOSION',\n",
       " '240': 'ASSAULT',\n",
       " '602PC': 'TRESPASSING',\n",
       " '594': 'MALICIOUS MISCHIEF',\n",
       " '1183': 'VEHICLE ACCIDENT, UNKNOWN INJURIES',\n",
       " '1184': 'TRAFFIC CONTROL',\n",
       " '1034': 'OPEN DOOR',\n",
       " '451': 'ARSON (447A)',\n",
       " '1095': 'PEDESTRIAN STOP',\n",
       " '6M': 'MISDEMEANOR WANT',\n",
       " '647': 'VAGRANT',\n",
       " '1065J': 'MISSING JUVENILE',\n",
       " '1065F': 'FOUND, MISSING PERSON',\n",
       " '415N': 'DISTURBANCE, NEIGHBOR',\n",
       " '1195X': 'VEHICLE STOP ON FEMALE',\n",
       " '1181': 'VEHICLE ACCIDENT, MINOR INJURIES',\n",
       " '417': 'BRANDISHING A WEAPON',\n",
       " 'FNDPRP': 'FOUND PROPERTY',\n",
       " '11300': 'NARCOTICS',\n",
       " '1065MH': 'MISSING PERSON, MENTAL HANDICAP',\n",
       " '459VEH': 'VEHICLE BURGLARY',\n",
       " '415EMS': 'DISTURBANCE (COMBINED EVENT)',\n",
       " '23110': 'THROWING SUBSTANCES AT VEHICLE',\n",
       " '1066P': 'SUSPICIOUS PACKAGE',\n",
       " '415J': 'DISTURBANCE, JUVENILE',\n",
       " '487': 'GRAND THEFT',\n",
       " '1055': 'CORONERS CASE',\n",
       " '1091': 'ANIMAL COMPLAINT',\n",
       " '314': 'INDECENT EXPOSURE',\n",
       " '1179': 'VEHICLE ACCIDENT, AMB DISPATCHED',\n",
       " '415MC': 'DISTURBANCE, MOTORCYCLE',\n",
       " '484': 'THEFT',\n",
       " '5150X': 'MENTALLY DISTURBED FEMALE',\n",
       " '1053': 'PERSON DOWN',\n",
       " '1124': 'ABANDONED VEHICLE',\n",
       " '422': 'CRIMINAL THREATS',\n",
       " '11357': 'POSSESSION OF MARIJUANA',\n",
       " '647F': 'DRUNK IN PUBLIC',\n",
       " '496': 'RECEIVE/POSSESS STOLEN PROP',\n",
       " '484R': 'THEFT OF RECYCLABLES',\n",
       " '11377': 'POSSESSION OF NARCOTICS',\n",
       " '1046': 'SICK PERSON',\n",
       " '23109': 'SPEED CONTEST',\n",
       " '11300G': 'NARCOTICS, GANG RELATED',\n",
       " '647B': 'SOLICITING FOR PROSTITUTION',\n",
       " '11550': 'USE OF CONTROLLED SUBSTANCE',\n",
       " '3056': 'PAROLE VIOLATION',\n",
       " '148': 'RESISTING ARREST',\n",
       " '904': 'FIRE (SPECIFY TYPE)',\n",
       " '12020': 'ILLEGAL WEAPONS',\n",
       " '12500': 'UNLICENSED DRIVER',\n",
       " '14601': 'DRIVING W/SUSPENDED LICENSE',\n",
       " '11350': 'POSSESSION OF CONTROLLED SUBSTANCE',\n",
       " '211A': 'ARMED ROBBERY',\n",
       " '1066W': 'SUSPICIOUS PERSON W/ WEAPON',\n",
       " '22350': 'SPEEDING',\n",
       " '1065JX': 'MISSING FEMALE JUVENILE',\n",
       " '1065': 'MISSING PERSON',\n",
       " '1095X': 'PEDESTRIAN STOP ON FEMALE',\n",
       " '1066X': 'SUSPICIOUS FEMALE',\n",
       " '245EMS': 'ASSAULT WITH DEADLY WEAPON (COMBINED EVENT)',\n",
       " '1058': 'GARBAGE COMPLAINT',\n",
       " 'CPM': 'COMMUNITY POLICING MEETING',\n",
       " '207': 'KIDNAPPING',\n",
       " '1033': 'ALARM',\n",
       " '1033L': 'ALARM, SVRN',\n",
       " '273A': 'CHILD ABUSE',\n",
       " '10852': 'TAMPERING WITH A VEHICLE',\n",
       " '1180': 'VEHICLE ACCIDENT, MAJOR INJURIES',\n",
       " '4000A': 'EXPIRED REGISTRATION',\n",
       " '1091D': 'DEAD ANIMAL',\n",
       " '647.6': 'MOLEST/ANNOY UNDER 18YRS',\n",
       " '470': 'FORGERY',\n",
       " '215EMS': 'CARJACKING (COMBINED EVENT)',\n",
       " 'CODE10': 'BOMB THREAT',\n",
       " 'CIVIL': 'CIVIL MATTER',\n",
       " 'SUSCIREMS': 'SUSPICIOUS CIRCUMSTANCES (COMBINED EVENT)',\n",
       " '10851G': 'STOLEN VEHICLE, GANG RELATED',\n",
       " '594G': 'MALICIOUS MISCHIEF, GANG RELATED',\n",
       " '1066R': 'SUSPICIOUS PERSON ON RUNWAY - SJIA',\n",
       " 'CPC': 'COMMUNITY POLICING -CITZ ASSIST',\n",
       " '211PS': 'PURSE SNATCH ROBBERY',\n",
       " 'CPS': 'COMMUNITY POLICING SCHOOL',\n",
       " 'CPO': 'COMMUNITY POLICING OFFICE',\n",
       " 'CODE6M': 'MISDEMEANOR WANT',\n",
       " '415UNKEMS': 'DISTURBANCE, UNKNOWN (COMBINED EVENT)',\n",
       " '1072': 'PERSON STABBED',\n",
       " '12020G': 'ILLEGAL WEAPONS, GANG RELATED',\n",
       " '1071': 'PERSON SHOT',\n",
       " '368': 'ELDER/DEPENDENT ADULT ABUSE',\n",
       " '518': 'EXTORTION',\n",
       " '415WEMS': 'DISTURBANCE, WEAPON (COMBINED EVENT)',\n",
       " '148G': 'RESISTING ARREST, GANG RELATED',\n",
       " '211AEMS': 'ARMED ROBBERY (COMBINED EVENT)',\n",
       " 'CPB': 'COMMUNIT POLICING BIKE',\n",
       " '243D': 'BATTERY, SERIOUS INJURY',\n",
       " '1045': 'INJURED PERSON',\n",
       " '273D': 'CHILD BEATING',\n",
       " '602J': 'INJURE, OBSTRUCT A BUSINESS',\n",
       " '602N': 'REFUSAL TO LEAVE PROPERTY',\n",
       " '601T': 'TRUANT (TABS)',\n",
       " '537': 'DEFRAUDING AN INKEEPER',\n",
       " '653M': 'OBSCENE OR HARASSING PH CALLS',\n",
       " '1067': 'PERSON CALLING FOR HELP',\n",
       " '12025': 'CARRYING A CONCEALED WEAPON',\n",
       " '488': 'PETTY THEFT',\n",
       " '11350G': 'POSSESSION OF CONTROLLED SUBSTANCE, GANG RELATED',\n",
       " '415G': 'DISTURBANCE, GANG',\n",
       " '245G': 'ASSAULT WITH DEADLY WEAPON, GANG',\n",
       " '211G': 'ROBBERY, GANG RELATED',\n",
       " '290': 'REGISTRATION OF SEX OFFENDER',\n",
       " '503': 'EMBEZZLEMENT',\n",
       " 'THEFT': 'THEFT',\n",
       " '597': 'CRUELTY TO ANIMALS',\n",
       " '1091AEMS': '1091AB          - VICIOUS ANIMAL (COMBINED EVENT)',\n",
       " '422.6': 'HATE CRIMES',\n",
       " '243.2': 'BATTERY ON A PEACE OFFICER',\n",
       " '211SAEMS': 'STRONG ARM ROBBERY (COMBINED EVENT)',\n",
       " '243': 'BATTERY ON AN OFFICER',\n",
       " '601': 'W&I UNCONTROLLABLE JUVENILE',\n",
       " '1051': 'INTOXICATED PERSON',\n",
       " '236': 'FALSE IMPRISONMENT',\n",
       " '1065X': 'MISSING FEMALE',\n",
       " '476A': 'BAD CHECKS',\n",
       " 'CODE6F': 'FELONY WANT',\n",
       " '240/242': 'ASSAULT AND BATTERY',\n",
       " '647A': 'SOLICITING FOR LEWD CONDUCT',\n",
       " '1035': 'OPEN WINDOW',\n",
       " '187': 'MURDER',\n",
       " '1050': 'TAKE A REPORT',\n",
       " 'BURG': 'BURGLARY (460)',\n",
       " '273.5EMS': 'DOMESTIC VIOLENCE  (COMBINED EVENT)',\n",
       " '417G': 'BRANDISHING A WEAPON, GANG',\n",
       " '666': 'PETTY THEFT PRIOR CONVICTION',\n",
       " '300': 'W&I-UNDER JURIS OF JUV COURT',\n",
       " '10751': 'ALTERED VIN NUMBER',\n",
       " '602WI': 'JUVENILE VIOLATING COURT ORDER',\n",
       " '502': 'HI-TECH CRIMES',\n",
       " '25662': 'MINOR IN POSSESSION OF ALCOHOL',\n",
       " '647C': 'OBSTRUCT STREETS OR SIDEWALK',\n",
       " '25658.A': 'SELL OR FURN ALCOHOL TO MINOR',\n",
       " '11377G': 'POSSESSION OF NARCOTICS, GANG RELATED',\n",
       " '211AG': 'ARMED ROBBERY, GANG RELATED',\n",
       " '242G': 'BATTERY, GANG RELATED',\n",
       " 'BARCK': 'BAR CHECK',\n",
       " '646.9': 'STALKING',\n",
       " '1066G': 'SUSPICIOUS PERSON (GANG)',\n",
       " 'CODE20': 'OFFICER NEEDS ASSIST, EMERG',\n",
       " '11570': 'CONTROLLED SUBSTANCE AT RESIDE',\n",
       " 'CCW': 'CARRYING A CONCEALED WEAPON',\n",
       " '415AG': 'DISTURBANCE, FIGHT GANG',\n",
       " '1196': 'VEHICLE STOP, SEND FILL',\n",
       " '1033B': 'BREACH OF AOA',\n",
       " '1032': 'DROWNING',\n",
       " '241': 'ASSAULT ON AN OFFICER',\n",
       " '1091H': 'STRAY HORSE',\n",
       " 'CURF': 'CURFEW TRANS/CURF CTR TO RESD',\n",
       " '240242': 'ASSAULT AND BATTERY',\n",
       " '14602.6': 'DRIVING W/SUS LIC-VEH IMPOUNDE',\n",
       " '1033CTX': 'X-RAY MACHINE ALARM/AIRPORT',\n",
       " '1096': 'PEDESTRIAN STOP, SEND FILL',\n",
       " '1091B': 'NOISY ANIMAL',\n",
       " '484G': 'THEFT, GANG RELATED',\n",
       " '415FG': 'DISTURBANCE, FAMILY GANG',\n",
       " '308': 'SALE OF TOBACCO TO MINOR',\n",
       " 'ADW': 'ASSAULT WITH DEADLY WEAPON',\n",
       " '1195XU': 'CARSTOP ON FEMALE (BACK IN)',\n",
       " '1033P': 'ALARM, PREPROCESSING',\n",
       " '602.11': 'OBSTRUCT MEDICAL CLINIC-PERSON',\n",
       " '1095C': 'PEDESTRIAN STOP-CURFEW VIOL',\n",
       " '415JG': 'DISTURBANCE, JUVENILE GANG',\n",
       " 'BOMB': 'BOMB REMOVAL, STANDBY',\n",
       " '1196X': 'VEHICLE STOP ON X, SEND FILL',\n",
       " '518G': 'EXTORTION, GANG RELATED'}"
      ]
     },
     "execution_count": 28,
     "metadata": {},
     "output_type": "execute_result"
    }
   ],
   "source": [
    "call_type_code_mapping = dict(zip(all_police_df['CALLTYPE_CODE'], all_police_df['CALL_TYPE']))\n",
    "call_type_code_mapping"
   ]
  },
  {
   "cell_type": "markdown",
   "id": "310652fa-59b0-43ce-97fd-db4914a4ce41",
   "metadata": {},
   "source": [
    "## Focus on Target Dispositions"
   ]
  },
  {
   "cell_type": "code",
   "execution_count": 36,
   "id": "3b154092-7eaa-4524-a871-43f4bb9e50ec",
   "metadata": {},
   "outputs": [
    {
     "data": {
      "image/png": "[encoded data removed]",
      "text/plain": [
       "<Figure size 1000x600 with 1 Axes>"
      ]
     },
     "metadata": {},
     "output_type": "display_data"
    }
   ],
   "source": [
    "# Get the value counts of the DISPO_SUBSET column\n",
    "dispo_counts = all_police_df['FINAL_DISPO_CODE'].value_counts()\n",
    "\n",
    "# Create a list of names using the dispo_mapping\n",
    "dispo_names = [final_dispo_mapping[code] for code in dispo_counts.index]\n",
    "\n",
    "# Plot the distribution of target classes with disposition names\n",
    "plt.figure(figsize=(10, 6))  # Adjust the figure size as needed\n",
    "plt.bar(dispo_names, dispo_counts.values)\n",
    "plt.title('Distribution of Target Classes (FINAL_DISPO_CODE)')\n",
    "plt.xlabel('Disposition')\n",
    "plt.ylabel('Count')\n",
    "plt.xticks(rotation=90)  # Rotate x-axis labels if needed\n",
    "plt.show()"
   ]
  },
  {
   "cell_type": "code",
   "execution_count": 38,
   "id": "9432b1eb-6d71-44ef-a597-a5fa4f9957ce",
   "metadata": {},
   "outputs": [],
   "source": [
    "# List of target disposition codes to keep as individual classes\n",
    "target_dispo_codes = ['A', 'B', 'C']\n",
    "\n",
    "dispo_mapping = {\n",
    "    'A': 'Arrest Made',\n",
    "    'B': 'Arrest by Warrant',\n",
    "    'C': 'Criminal Citation',\n",
    "    'Other': 'Other'\n",
    "}"
   ]
  },
  {
   "cell_type": "code",
   "execution_count": 40,
   "id": "388b3d3f-2a4f-4d82-a3a0-98c920859a95",
   "metadata": {},
   "outputs": [
    {
     "data": {
      "text/plain": [
       "DISPO_SUBSET\n",
       "Other    1482102\n",
       "A          27573\n",
       "C          16213\n",
       "B          13193\n",
       "Name: count, dtype: int64"
      ]
     },
     "execution_count": 40,
     "metadata": {},
     "output_type": "execute_result"
    }
   ],
   "source": [
    "# Step 1: Create a new target variable where specified disposition codes remain,\n",
    "# and all others are consolidated into a single class.\n",
    "all_police_df['DISPO_SUBSET'] = np.where(all_police_df['FINAL_DISPO_CODE'].isin(target_dispo_codes), \n",
    "                                         all_police_df['FINAL_DISPO_CODE'], 'Other')\n",
    "all_police_df['DISPO_SUBSET'].value_counts()"
   ]
  },
  {
   "cell_type": "code",
   "execution_count": 42,
   "id": "d09a68ca-1fa9-4693-9441-16892292f0f3",
   "metadata": {},
   "outputs": [
    {
     "data": {
      "image/png": "[encoded data removed]",
      "text/plain": [
       "<Figure size 1000x600 with 1 Axes>"
      ]
     },
     "metadata": {},
     "output_type": "display_data"
    }
   ],
   "source": [
    "# Get the value counts of the DISPO_SUBSET column\n",
    "dispo_counts = all_police_df['DISPO_SUBSET'].value_counts()\n",
    "\n",
    "# Create a list of names using the dispo_mapping\n",
    "dispo_names = [dispo_mapping[code] for code in dispo_counts.index]\n",
    "\n",
    "# Plot the distribution of target classes with disposition names\n",
    "plt.figure(figsize=(10, 6))  # Adjust the figure size as needed\n",
    "plt.bar(dispo_names, dispo_counts.values)\n",
    "plt.title('Distribution of Target Classes (DISPO_SUBSET)')\n",
    "plt.xlabel('Disposition Subset')\n",
    "plt.ylabel('Count')\n",
    "plt.xticks(rotation=90)  # Rotate x-axis labels if needed\n",
    "plt.show()"
   ]
  },
  {
   "cell_type": "markdown",
   "id": "8da54204-762d-459c-a6c1-0eb5d107a8c6",
   "metadata": {},
   "source": [
    "## Data Cleaning and Feature Engineering"
   ]
  },
  {
   "cell_type": "code",
   "execution_count": 45,
   "id": "84abb798-8d9b-4b4d-8650-55613dd580ab",
   "metadata": {},
   "outputs": [
    {
     "name": "stdout",
     "output_type": "stream",
     "text": [
      "Police Calls Dataset: 1539081 rows before cleaning, 1375290 rows after cleaning.\n"
     ]
    }
   ],
   "source": [
    "# Remove rows with any missing values from the Police Calls dataset\n",
    "police_calls_clean = all_police_df.dropna()\n",
    "print(f\"Police Calls Dataset: {all_police_df.shape[0]} rows before cleaning, {police_calls_clean.shape[0]} rows after cleaning.\")"
   ]
  },
  {
   "cell_type": "code",
   "execution_count": 46,
   "id": "abb9c5ca-6889-4ff8-85d6-9df119df2573",
   "metadata": {},
   "outputs": [],
   "source": [
    "# Dropping unnecessary columns \n",
    "police_calls_clean = police_calls_clean.drop( \\\n",
    "    columns=['CDTS', 'EID', 'CALL_NUMBER', 'START_DATE', 'REPORT_DATE', 'CITY', 'STATE', \\\n",
    "             'CALL_TYPE', 'FINAL_DISPO', 'FINAL_DISPO_CODE', 'ADDRESS'])"
   ]
  },
  {
   "cell_type": "code",
   "execution_count": 49,
   "id": "f08f04c7-46b8-44d9-ac5b-b9fb84b10825",
   "metadata": {},
   "outputs": [],
   "source": [
    "# Convert 'OFFENSE_DATE' to datetime to extract time-related features\n",
    "police_calls_clean['OFFENSE_DATE'] = pd.to_datetime(police_calls_clean['OFFENSE_DATE'], format='%m/%d/%Y %I:%M:%S %p')\n",
    "\n",
    "# and adding time-related features\n",
    "police_calls_clean['OFFENSE_HOUR'] = police_calls_clean['OFFENSE_DATE'].dt.hour\n",
    "police_calls_clean['OFFENSE_DAY_OF_WEEK'] = police_calls_clean['OFFENSE_DATE'].dt.dayofweek\n",
    "police_calls_clean['OFFENSE_MONTH'] = police_calls_clean['OFFENSE_DATE'].dt.month\n",
    "\n",
    "# Drop 'OFFENSE_DATE' now that features have been extracted\n",
    "police_calls_clean = police_calls_clean.drop(columns=['OFFENSE_DATE', 'OFFENSE_TIME'])\n",
    "\n",
    "# Distance from center: add a feature that\n",
    "# San Jose's approximate center (Latitude and Longitude)\n",
    "SJ_CENTER_LAT, SJ_CENTER_LON = 37.3382, -121.8863\n",
    "\n",
    "# Calculate Euclidean distance from the city center\n",
    "police_calls_clean['DISTANCE_FROM_CENTER'] = np.sqrt(\n",
    "    (police_calls_clean['LATITUDE'] - SJ_CENTER_LAT) ** 2 + \n",
    "    (police_calls_clean['LONGITUDE'] - SJ_CENTER_LON) ** 2\n",
    ")"
   ]
  },
  {
   "cell_type": "code",
   "execution_count": 51,
   "id": "14619380-0343-4610-850d-002942fb16ec",
   "metadata": {},
   "outputs": [],
   "source": [
    "# Normalize latitude and longitude before adding polynomial featuers\n",
    "scaler = StandardScaler()\n",
    "police_calls_clean[['LATITUDE', 'LONGITUDE']] = scaler.fit_transform(police_calls_clean[['LATITUDE', 'LONGITUDE']])\n",
    "\n",
    "# Generate polynomial features from normalized latitude and longitude\n",
    "poly = PolynomialFeatures(degree=2, include_bias=False)\n",
    "lat_lon_poly = poly.fit_transform(police_calls_clean[['LATITUDE', 'LONGITUDE']])\n",
    "\n",
    "# Create a DataFrame with the polynomial features and concatenate with original data\n",
    "lat_lon_poly_df = pd.DataFrame(lat_lon_poly[:, 2:], \\\n",
    "                               columns=poly.get_feature_names_out(['LATITUDE', 'LONGITUDE'])[2:], \\\n",
    "                               index=police_calls_clean.index)"
   ]
  },
  {
   "cell_type": "code",
   "execution_count": 53,
   "id": "9b4b232f-ccf7-4427-a065-9f7bceffdcef",
   "metadata": {},
   "outputs": [],
   "source": [
    "police_calls_clean = pd.concat([police_calls_clean, lat_lon_poly_df], axis=1)"
   ]
  },
  {
   "cell_type": "code",
   "execution_count": 55,
   "id": "107202f7-7074-43b5-bf51-ae5a7951c332",
   "metadata": {},
   "outputs": [],
   "source": [
    "# Encode categorical columns using One-Hot Encoding\n",
    "police_calls_encoded = pd.get_dummies(police_calls_clean, columns=['CALLTYPE_CODE', 'neighborhood'], drop_first=True)"
   ]
  },
  {
   "cell_type": "markdown",
   "id": "ecce31db-40aa-4789-a96a-11f822f12cab",
   "metadata": {},
   "source": [
    "## Define X and Y"
   ]
  },
  {
   "cell_type": "code",
   "execution_count": 58,
   "id": "84b9c30d-07b3-4017-afeb-e74a02ec7764",
   "metadata": {},
   "outputs": [],
   "source": [
    "# Define features and target\n",
    "X = police_calls_encoded.drop(columns=['DISPO_SUBSET'])\n",
    "y = police_calls_encoded['DISPO_SUBSET']"
   ]
  },
  {
   "cell_type": "code",
   "execution_count": 60,
   "id": "9b668537-179e-4ce4-94aa-1035fa8b0a41",
   "metadata": {},
   "outputs": [],
   "source": [
    "label_encoder = LabelEncoder()\n",
    "y_encoded = label_encoder.fit_transform(y)"
   ]
  },
  {
   "cell_type": "code",
   "execution_count": 62,
   "id": "a3f31ef0-aa37-45f2-8c6e-9b8a673de304",
   "metadata": {},
   "outputs": [
    {
     "data": {
      "text/plain": [
       "array(['A', 'B', 'C', 'Other'], dtype=object)"
      ]
     },
     "execution_count": 62,
     "metadata": {},
     "output_type": "execute_result"
    }
   ],
   "source": [
    "label_encoder.classes_"
   ]
  },
  {
   "cell_type": "code",
   "execution_count": 64,
   "id": "498873ae-aa5e-4d12-a067-db6c87a640ee",
   "metadata": {},
   "outputs": [],
   "source": [
    "label_names = [dispo_mapping[code] for code in label_encoder.classes_]\n",
    "\n",
    "# Split the data into training and testing sets\n",
    "X_train, X_test, y_train, y_test = train_test_split(X, y_encoded, test_size=0.2, random_state=42, stratify=y_encoded)\n",
    "\n",
    "# Scale the features\n",
    "scaler = StandardScaler()\n",
    "X_train_scaled = scaler.fit_transform(X_train)\n",
    "X_test_scaled = scaler.transform(X_test)\n",
    "\n",
    "y_test_original = label_encoder.inverse_transform(y_test)\n",
    "y_test_original_name = [dispo_mapping[code] for code in y_test_original]"
   ]
  },
  {
   "cell_type": "markdown",
   "id": "1b23ad63-2e0b-4833-bda7-30b2693add02",
   "metadata": {},
   "source": [
    "## Evaluate Different Baseline Models"
   ]
  },
  {
   "cell_type": "markdown",
   "id": "18acf432-6046-45a3-8fb0-75d3ebe87618",
   "metadata": {},
   "source": [
    "### Most Frequent Class Model"
   ]
  },
  {
   "cell_type": "code",
   "execution_count": 67,
   "id": "098d5bf8-907d-48f1-83dd-aae0cb8721f2",
   "metadata": {},
   "outputs": [],
   "source": [
    "# Step 1: Find the most frequent class in the training set\n",
    "most_frequent_class = np.bincount(y_train).argmax()"
   ]
  },
  {
   "cell_type": "code",
   "execution_count": 68,
   "id": "3acd1a80-54da-46e6-9ab7-803edf95580e",
   "metadata": {},
   "outputs": [],
   "source": [
    "# Step 2: Predict the most frequent class for all samples in the test set\n",
    "y_pred_baseline = [most_frequent_class] * len(y_test)"
   ]
  },
  {
   "cell_type": "code",
   "execution_count": 69,
   "id": "771939b1-130b-4224-8966-28f654e609ea",
   "metadata": {},
   "outputs": [
    {
     "name": "stdout",
     "output_type": "stream",
     "text": [
      "Baseline Model (Most Frequent Class) Classification Report:\n",
      "                   precision    recall  f1-score   support\n",
      "\n",
      "      Arrest Made       0.00      0.00      0.00      5030\n",
      "Arrest by Warrant       0.00      0.00      0.00      2387\n",
      "Criminal Citation       0.00      0.00      0.00      2901\n",
      "            Other       0.96      1.00      0.98    264740\n",
      "\n",
      "         accuracy                           0.96    275058\n",
      "        macro avg       0.24      0.25      0.25    275058\n",
      "     weighted avg       0.93      0.96      0.94    275058\n",
      "\n"
     ]
    }
   ],
   "source": [
    "# Step 3: Evaluate the baseline model\n",
    "print(\"Baseline Model (Most Frequent Class) Classification Report:\")\n",
    "print(classification_report(y_test, y_pred_baseline, zero_division=0, target_names=label_names))"
   ]
  },
  {
   "cell_type": "markdown",
   "id": "3d3cf34a-e579-48ae-9baf-fc8a6ba22b7e",
   "metadata": {},
   "source": [
    "### Logistic Regression"
   ]
  },
  {
   "cell_type": "code",
   "execution_count": 75,
   "id": "6abdb70b-b943-4650-83c7-cd2221c7026f",
   "metadata": {},
   "outputs": [
    {
     "name": "stdout",
     "output_type": "stream",
     "text": [
      "DONE\n"
     ]
    }
   ],
   "source": [
    "lr_model = LogisticRegression(max_iter=1000, random_state=42)\n",
    "lr_model.fit(X_train_scaled, y_train)\n",
    "y_pred_lr = lr_model.predict(X_test_scaled)\n",
    "print(\"DONE\")"
   ]
  },
  {
   "cell_type": "code",
   "execution_count": 76,
   "id": "abf67cd8-bf39-4a64-b02a-f2499c33c226",
   "metadata": {},
   "outputs": [
    {
     "name": "stdout",
     "output_type": "stream",
     "text": [
      "Logistic Regression Classification Report:\n",
      "                   precision    recall  f1-score   support\n",
      "\n",
      "      Arrest Made       0.60      0.25      0.35      5030\n",
      "Arrest by Warrant       0.70      0.58      0.63      2387\n",
      "Criminal Citation       0.49      0.23      0.31      2901\n",
      "            Other       0.98      0.99      0.99    264740\n",
      "\n",
      "         accuracy                           0.97    275058\n",
      "        macro avg       0.69      0.51      0.57    275058\n",
      "     weighted avg       0.96      0.97      0.96    275058\n",
      "\n"
     ]
    }
   ],
   "source": [
    "print(\"Logistic Regression Classification Report:\")\n",
    "print(classification_report(y_test, y_pred_lr, zero_division=0, target_names=label_names))"
   ]
  },
  {
   "cell_type": "markdown",
   "id": "02057b64-5a08-4338-8434-ffc72b4b9b43",
   "metadata": {},
   "source": [
    "#### Hyperparameter Tuning"
   ]
  },
  {
   "cell_type": "code",
   "execution_count": 78,
   "id": "b20b2425-06f6-4215-bacd-9b970a90940a",
   "metadata": {},
   "outputs": [
    {
     "name": "stdout",
     "output_type": "stream",
     "text": [
      "Fitting 5 folds for each of 8 candidates, totalling 40 fits\n"
     ]
    },
    {
     "data": {
      "text/html": [
       "<style>#sk-container-id-1 {\n",
       "  /* Definition of color scheme common for light and dark mode */\n",
       "  --sklearn-color-text: black;\n",
       "  --sklearn-color-line: gray;\n",
       "  /* Definition of color scheme for unfitted estimators */\n",
       "  --sklearn-color-unfitted-level-0: #fff5e6;\n",
       "  --sklearn-color-unfitted-level-1: #f6e4d2;\n",
       "  --sklearn-color-unfitted-level-2: #ffe0b3;\n",
       "  --sklearn-color-unfitted-level-3: chocolate;\n",
       "  /* Definition of color scheme for fitted estimators */\n",
       "  --sklearn-color-fitted-level-0: #f0f8ff;\n",
       "  --sklearn-color-fitted-level-1: #d4ebff;\n",
       "  --sklearn-color-fitted-level-2: #b3dbfd;\n",
       "  --sklearn-color-fitted-level-3: cornflowerblue;\n",
       "\n",
       "  /* Specific color for light theme */\n",
       "  --sklearn-color-text-on-default-background: var(--sg-text-color, var(--theme-code-foreground, var(--jp-content-font-color1, black)));\n",
       "  --sklearn-color-background: var(--sg-background-color, var(--theme-background, var(--jp-layout-color0, white)));\n",
       "  --sklearn-color-border-box: var(--sg-text-color, var(--theme-code-foreground, var(--jp-content-font-color1, black)));\n",
       "  --sklearn-color-icon: #696969;\n",
       "\n",
       "  @media (prefers-color-scheme: dark) {\n",
       "    /* Redefinition of color scheme for dark theme */\n",
       "    --sklearn-color-text-on-default-background: var(--sg-text-color, var(--theme-code-foreground, var(--jp-content-font-color1, white)));\n",
       "    --sklearn-color-background: var(--sg-background-color, var(--theme-background, var(--jp-layout-color0, #111)));\n",
       "    --sklearn-color-border-box: var(--sg-text-color, var(--theme-code-foreground, var(--jp-content-font-color1, white)));\n",
       "    --sklearn-color-icon: #878787;\n",
       "  }\n",
       "}\n",
       "\n",
       "#sk-container-id-1 {\n",
       "  color: var(--sklearn-color-text);\n",
       "}\n",
       "\n",
       "#sk-container-id-1 pre {\n",
       "  padding: 0;\n",
       "}\n",
       "\n",
       "#sk-container-id-1 input.sk-hidden--visually {\n",
       "  border: 0;\n",
       "  clip: rect(1px 1px 1px 1px);\n",
       "  clip: rect(1px, 1px, 1px, 1px);\n",
       "  height: 1px;\n",
       "  margin: -1px;\n",
       "  overflow: hidden;\n",
       "  padding: 0;\n",
       "  position: absolute;\n",
       "  width: 1px;\n",
       "}\n",
       "\n",
       "#sk-container-id-1 div.sk-dashed-wrapped {\n",
       "  border: 1px dashed var(--sklearn-color-line);\n",
       "  margin: 0 0.4em 0.5em 0.4em;\n",
       "  box-sizing: border-box;\n",
       "  padding-bottom: 0.4em;\n",
       "  background-color: var(--sklearn-color-background);\n",
       "}\n",
       "\n",
       "#sk-container-id-1 div.sk-container {\n",
       "  /* jupyter's `normalize.less` sets `[hidden] { display: none; }`\n",
       "     but bootstrap.min.css set `[hidden] { display: none !important; }`\n",
       "     so we also need the `!important` here to be able to override the\n",
       "     default hidden behavior on the sphinx rendered scikit-learn.org.\n",
       "     See: https://github.com/scikit-learn/scikit-learn/issues/21755 */\n",
       "  display: inline-block !important;\n",
       "  position: relative;\n",
       "}\n",
       "\n",
       "#sk-container-id-1 div.sk-text-repr-fallback {\n",
       "  display: none;\n",
       "}\n",
       "\n",
       "div.sk-parallel-item,\n",
       "div.sk-serial,\n",
       "div.sk-item {\n",
       "  /* draw centered vertical line to link estimators */\n",
       "  background-image: linear-gradient(var(--sklearn-color-text-on-default-background), var(--sklearn-color-text-on-default-background));\n",
       "  background-size: 2px 100%;\n",
       "  background-repeat: no-repeat;\n",
       "  background-position: center center;\n",
       "}\n",
       "\n",
       "/* Parallel-specific style estimator block */\n",
       "\n",
       "#sk-container-id-1 div.sk-parallel-item::after {\n",
       "  content: \"\";\n",
       "  width: 100%;\n",
       "  border-bottom: 2px solid var(--sklearn-color-text-on-default-background);\n",
       "  flex-grow: 1;\n",
       "}\n",
       "\n",
       "#sk-container-id-1 div.sk-parallel {\n",
       "  display: flex;\n",
       "  align-items: stretch;\n",
       "  justify-content: center;\n",
       "  background-color: var(--sklearn-color-background);\n",
       "  position: relative;\n",
       "}\n",
       "\n",
       "#sk-container-id-1 div.sk-parallel-item {\n",
       "  display: flex;\n",
       "  flex-direction: column;\n",
       "}\n",
       "\n",
       "#sk-container-id-1 div.sk-parallel-item:first-child::after {\n",
       "  align-self: flex-end;\n",
       "  width: 50%;\n",
       "}\n",
       "\n",
       "#sk-container-id-1 div.sk-parallel-item:last-child::after {\n",
       "  align-self: flex-start;\n",
       "  width: 50%;\n",
       "}\n",
       "\n",
       "#sk-container-id-1 div.sk-parallel-item:only-child::after {\n",
       "  width: 0;\n",
       "}\n",
       "\n",
       "/* Serial-specific style estimator block */\n",
       "\n",
       "#sk-container-id-1 div.sk-serial {\n",
       "  display: flex;\n",
       "  flex-direction: column;\n",
       "  align-items: center;\n",
       "  background-color: var(--sklearn-color-background);\n",
       "  padding-right: 1em;\n",
       "  padding-left: 1em;\n",
       "}\n",
       "\n",
       "\n",
       "/* Toggleable style: style used for estimator/Pipeline/ColumnTransformer box that is\n",
       "clickable and can be expanded/collapsed.\n",
       "- Pipeline and ColumnTransformer use this feature and define the default style\n",
       "- Estimators will overwrite some part of the style using the `sk-estimator` class\n",
       "*/\n",
       "\n",
       "/* Pipeline and ColumnTransformer style (default) */\n",
       "\n",
       "#sk-container-id-1 div.sk-toggleable {\n",
       "  /* Default theme specific background. It is overwritten whether we have a\n",
       "  specific estimator or a Pipeline/ColumnTransformer */\n",
       "  background-color: var(--sklearn-color-background);\n",
       "}\n",
       "\n",
       "/* Toggleable label */\n",
       "#sk-container-id-1 label.sk-toggleable__label {\n",
       "  cursor: pointer;\n",
       "  display: block;\n",
       "  width: 100%;\n",
       "  margin-bottom: 0;\n",
       "  padding: 0.5em;\n",
       "  box-sizing: border-box;\n",
       "  text-align: center;\n",
       "}\n",
       "\n",
       "#sk-container-id-1 label.sk-toggleable__label-arrow:before {\n",
       "  /* Arrow on the left of the label */\n",
       "  content: \"▸\";\n",
       "  float: left;\n",
       "  margin-right: 0.25em;\n",
       "  color: var(--sklearn-color-icon);\n",
       "}\n",
       "\n",
       "#sk-container-id-1 label.sk-toggleable__label-arrow:hover:before {\n",
       "  color: var(--sklearn-color-text);\n",
       "}\n",
       "\n",
       "/* Toggleable content - dropdown */\n",
       "\n",
       "#sk-container-id-1 div.sk-toggleable__content {\n",
       "  max-height: 0;\n",
       "  max-width: 0;\n",
       "  overflow: hidden;\n",
       "  text-align: left;\n",
       "  /* unfitted */\n",
       "  background-color: var(--sklearn-color-unfitted-level-0);\n",
       "}\n",
       "\n",
       "#sk-container-id-1 div.sk-toggleable__content.fitted {\n",
       "  /* fitted */\n",
       "  background-color: var(--sklearn-color-fitted-level-0);\n",
       "}\n",
       "\n",
       "#sk-container-id-1 div.sk-toggleable__content pre {\n",
       "  margin: 0.2em;\n",
       "  border-radius: 0.25em;\n",
       "  color: var(--sklearn-color-text);\n",
       "  /* unfitted */\n",
       "  background-color: var(--sklearn-color-unfitted-level-0);\n",
       "}\n",
       "\n",
       "#sk-container-id-1 div.sk-toggleable__content.fitted pre {\n",
       "  /* unfitted */\n",
       "  background-color: var(--sklearn-color-fitted-level-0);\n",
       "}\n",
       "\n",
       "#sk-container-id-1 input.sk-toggleable__control:checked~div.sk-toggleable__content {\n",
       "  /* Expand drop-down */\n",
       "  max-height: 200px;\n",
       "  max-width: 100%;\n",
       "  overflow: auto;\n",
       "}\n",
       "\n",
       "#sk-container-id-1 input.sk-toggleable__control:checked~label.sk-toggleable__label-arrow:before {\n",
       "  content: \"▾\";\n",
       "}\n",
       "\n",
       "/* Pipeline/ColumnTransformer-specific style */\n",
       "\n",
       "#sk-container-id-1 div.sk-label input.sk-toggleable__control:checked~label.sk-toggleable__label {\n",
       "  color: var(--sklearn-color-text);\n",
       "  background-color: var(--sklearn-color-unfitted-level-2);\n",
       "}\n",
       "\n",
       "#sk-container-id-1 div.sk-label.fitted input.sk-toggleable__control:checked~label.sk-toggleable__label {\n",
       "  background-color: var(--sklearn-color-fitted-level-2);\n",
       "}\n",
       "\n",
       "/* Estimator-specific style */\n",
       "\n",
       "/* Colorize estimator box */\n",
       "#sk-container-id-1 div.sk-estimator input.sk-toggleable__control:checked~label.sk-toggleable__label {\n",
       "  /* unfitted */\n",
       "  background-color: var(--sklearn-color-unfitted-level-2);\n",
       "}\n",
       "\n",
       "#sk-container-id-1 div.sk-estimator.fitted input.sk-toggleable__control:checked~label.sk-toggleable__label {\n",
       "  /* fitted */\n",
       "  background-color: var(--sklearn-color-fitted-level-2);\n",
       "}\n",
       "\n",
       "#sk-container-id-1 div.sk-label label.sk-toggleable__label,\n",
       "#sk-container-id-1 div.sk-label label {\n",
       "  /* The background is the default theme color */\n",
       "  color: var(--sklearn-color-text-on-default-background);\n",
       "}\n",
       "\n",
       "/* On hover, darken the color of the background */\n",
       "#sk-container-id-1 div.sk-label:hover label.sk-toggleable__label {\n",
       "  color: var(--sklearn-color-text);\n",
       "  background-color: var(--sklearn-color-unfitted-level-2);\n",
       "}\n",
       "\n",
       "/* Label box, darken color on hover, fitted */\n",
       "#sk-container-id-1 div.sk-label.fitted:hover label.sk-toggleable__label.fitted {\n",
       "  color: var(--sklearn-color-text);\n",
       "  background-color: var(--sklearn-color-fitted-level-2);\n",
       "}\n",
       "\n",
       "/* Estimator label */\n",
       "\n",
       "#sk-container-id-1 div.sk-label label {\n",
       "  font-family: monospace;\n",
       "  font-weight: bold;\n",
       "  display: inline-block;\n",
       "  line-height: 1.2em;\n",
       "}\n",
       "\n",
       "#sk-container-id-1 div.sk-label-container {\n",
       "  text-align: center;\n",
       "}\n",
       "\n",
       "/* Estimator-specific */\n",
       "#sk-container-id-1 div.sk-estimator {\n",
       "  font-family: monospace;\n",
       "  border: 1px dotted var(--sklearn-color-border-box);\n",
       "  border-radius: 0.25em;\n",
       "  box-sizing: border-box;\n",
       "  margin-bottom: 0.5em;\n",
       "  /* unfitted */\n",
       "  background-color: var(--sklearn-color-unfitted-level-0);\n",
       "}\n",
       "\n",
       "#sk-container-id-1 div.sk-estimator.fitted {\n",
       "  /* fitted */\n",
       "  background-color: var(--sklearn-color-fitted-level-0);\n",
       "}\n",
       "\n",
       "/* on hover */\n",
       "#sk-container-id-1 div.sk-estimator:hover {\n",
       "  /* unfitted */\n",
       "  background-color: var(--sklearn-color-unfitted-level-2);\n",
       "}\n",
       "\n",
       "#sk-container-id-1 div.sk-estimator.fitted:hover {\n",
       "  /* fitted */\n",
       "  background-color: var(--sklearn-color-fitted-level-2);\n",
       "}\n",
       "\n",
       "/* Specification for estimator info (e.g. \"i\" and \"?\") */\n",
       "\n",
       "/* Common style for \"i\" and \"?\" */\n",
       "\n",
       ".sk-estimator-doc-link,\n",
       "a:link.sk-estimator-doc-link,\n",
       "a:visited.sk-estimator-doc-link {\n",
       "  float: right;\n",
       "  font-size: smaller;\n",
       "  line-height: 1em;\n",
       "  font-family: monospace;\n",
       "  background-color: var(--sklearn-color-background);\n",
       "  border-radius: 1em;\n",
       "  height: 1em;\n",
       "  width: 1em;\n",
       "  text-decoration: none !important;\n",
       "  margin-left: 1ex;\n",
       "  /* unfitted */\n",
       "  border: var(--sklearn-color-unfitted-level-1) 1pt solid;\n",
       "  color: var(--sklearn-color-unfitted-level-1);\n",
       "}\n",
       "\n",
       ".sk-estimator-doc-link.fitted,\n",
       "a:link.sk-estimator-doc-link.fitted,\n",
       "a:visited.sk-estimator-doc-link.fitted {\n",
       "  /* fitted */\n",
       "  border: var(--sklearn-color-fitted-level-1) 1pt solid;\n",
       "  color: var(--sklearn-color-fitted-level-1);\n",
       "}\n",
       "\n",
       "/* On hover */\n",
       "div.sk-estimator:hover .sk-estimator-doc-link:hover,\n",
       ".sk-estimator-doc-link:hover,\n",
       "div.sk-label-container:hover .sk-estimator-doc-link:hover,\n",
       ".sk-estimator-doc-link:hover {\n",
       "  /* unfitted */\n",
       "  background-color: var(--sklearn-color-unfitted-level-3);\n",
       "  color: var(--sklearn-color-background);\n",
       "  text-decoration: none;\n",
       "}\n",
       "\n",
       "div.sk-estimator.fitted:hover .sk-estimator-doc-link.fitted:hover,\n",
       ".sk-estimator-doc-link.fitted:hover,\n",
       "div.sk-label-container:hover .sk-estimator-doc-link.fitted:hover,\n",
       ".sk-estimator-doc-link.fitted:hover {\n",
       "  /* fitted */\n",
       "  background-color: var(--sklearn-color-fitted-level-3);\n",
       "  color: var(--sklearn-color-background);\n",
       "  text-decoration: none;\n",
       "}\n",
       "\n",
       "/* Span, style for the box shown on hovering the info icon */\n",
       ".sk-estimator-doc-link span {\n",
       "  display: none;\n",
       "  z-index: 9999;\n",
       "  position: relative;\n",
       "  font-weight: normal;\n",
       "  right: .2ex;\n",
       "  padding: .5ex;\n",
       "  margin: .5ex;\n",
       "  width: min-content;\n",
       "  min-width: 20ex;\n",
       "  max-width: 50ex;\n",
       "  color: var(--sklearn-color-text);\n",
       "  box-shadow: 2pt 2pt 4pt #999;\n",
       "  /* unfitted */\n",
       "  background: var(--sklearn-color-unfitted-level-0);\n",
       "  border: .5pt solid var(--sklearn-color-unfitted-level-3);\n",
       "}\n",
       "\n",
       ".sk-estimator-doc-link.fitted span {\n",
       "  /* fitted */\n",
       "  background: var(--sklearn-color-fitted-level-0);\n",
       "  border: var(--sklearn-color-fitted-level-3);\n",
       "}\n",
       "\n",
       ".sk-estimator-doc-link:hover span {\n",
       "  display: block;\n",
       "}\n",
       "\n",
       "/* \"?\"-specific style due to the `<a>` HTML tag */\n",
       "\n",
       "#sk-container-id-1 a.estimator_doc_link {\n",
       "  float: right;\n",
       "  font-size: 1rem;\n",
       "  line-height: 1em;\n",
       "  font-family: monospace;\n",
       "  background-color: var(--sklearn-color-background);\n",
       "  border-radius: 1rem;\n",
       "  height: 1rem;\n",
       "  width: 1rem;\n",
       "  text-decoration: none;\n",
       "  /* unfitted */\n",
       "  color: var(--sklearn-color-unfitted-level-1);\n",
       "  border: var(--sklearn-color-unfitted-level-1) 1pt solid;\n",
       "}\n",
       "\n",
       "#sk-container-id-1 a.estimator_doc_link.fitted {\n",
       "  /* fitted */\n",
       "  border: var(--sklearn-color-fitted-level-1) 1pt solid;\n",
       "  color: var(--sklearn-color-fitted-level-1);\n",
       "}\n",
       "\n",
       "/* On hover */\n",
       "#sk-container-id-1 a.estimator_doc_link:hover {\n",
       "  /* unfitted */\n",
       "  background-color: var(--sklearn-color-unfitted-level-3);\n",
       "  color: var(--sklearn-color-background);\n",
       "  text-decoration: none;\n",
       "}\n",
       "\n",
       "#sk-container-id-1 a.estimator_doc_link.fitted:hover {\n",
       "  /* fitted */\n",
       "  background-color: var(--sklearn-color-fitted-level-3);\n",
       "}\n",
       "</style><div id=\"sk-container-id-1\" class=\"sk-top-container\"><div class=\"sk-text-repr-fallback\"><pre>GridSearchCV(cv=5, estimator=LogisticRegression(max_iter=1000, random_state=42),\n",
       "             n_jobs=-1,\n",
       "             param_grid={&#x27;C&#x27;: [0.1, 1, 10, 100],\n",
       "                         &#x27;class_weight&#x27;: [None, &#x27;balanced&#x27;]},\n",
       "             scoring=&#x27;f1_macro&#x27;, verbose=1)</pre><b>In a Jupyter environment, please rerun this cell to show the HTML representation or trust the notebook. <br />On GitHub, the HTML representation is unable to render, please try loading this page with nbviewer.org.</b></div><div class=\"sk-container\" hidden><div class=\"sk-item sk-dashed-wrapped\"><div class=\"sk-label-container\"><div class=\"sk-label fitted sk-toggleable\"><input class=\"sk-toggleable__control sk-hidden--visually\" id=\"sk-estimator-id-1\" type=\"checkbox\" ><label for=\"sk-estimator-id-1\" class=\"sk-toggleable__label fitted sk-toggleable__label-arrow fitted\">&nbsp;&nbsp;GridSearchCV<a class=\"sk-estimator-doc-link fitted\" rel=\"noreferrer\" target=\"_blank\" href=\"https://scikit-learn.org/1.4/modules/generated/sklearn.model_selection.GridSearchCV.html\">?<span>Documentation for GridSearchCV</span></a><span class=\"sk-estimator-doc-link fitted\">i<span>Fitted</span></span></label><div class=\"sk-toggleable__content fitted\"><pre>GridSearchCV(cv=5, estimator=LogisticRegression(max_iter=1000, random_state=42),\n",
       "             n_jobs=-1,\n",
       "             param_grid={&#x27;C&#x27;: [0.1, 1, 10, 100],\n",
       "                         &#x27;class_weight&#x27;: [None, &#x27;balanced&#x27;]},\n",
       "             scoring=&#x27;f1_macro&#x27;, verbose=1)</pre></div> </div></div><div class=\"sk-parallel\"><div class=\"sk-parallel-item\"><div class=\"sk-item\"><div class=\"sk-label-container\"><div class=\"sk-label fitted sk-toggleable\"><input class=\"sk-toggleable__control sk-hidden--visually\" id=\"sk-estimator-id-2\" type=\"checkbox\" ><label for=\"sk-estimator-id-2\" class=\"sk-toggleable__label fitted sk-toggleable__label-arrow fitted\">estimator: LogisticRegression</label><div class=\"sk-toggleable__content fitted\"><pre>LogisticRegression(max_iter=1000, random_state=42)</pre></div> </div></div><div class=\"sk-serial\"><div class=\"sk-item\"><div class=\"sk-estimator fitted sk-toggleable\"><input class=\"sk-toggleable__control sk-hidden--visually\" id=\"sk-estimator-id-3\" type=\"checkbox\" ><label for=\"sk-estimator-id-3\" class=\"sk-toggleable__label fitted sk-toggleable__label-arrow fitted\">&nbsp;LogisticRegression<a class=\"sk-estimator-doc-link fitted\" rel=\"noreferrer\" target=\"_blank\" href=\"https://scikit-learn.org/1.4/modules/generated/sklearn.linear_model.LogisticRegression.html\">?<span>Documentation for LogisticRegression</span></a></label><div class=\"sk-toggleable__content fitted\"><pre>LogisticRegression(max_iter=1000, random_state=42)</pre></div> </div></div></div></div></div></div></div></div></div>"
      ],
      "text/plain": [
       "GridSearchCV(cv=5, estimator=LogisticRegression(max_iter=1000, random_state=42),\n",
       "             n_jobs=-1,\n",
       "             param_grid={'C': [0.1, 1, 10, 100],\n",
       "                         'class_weight': [None, 'balanced']},\n",
       "             scoring='f1_macro', verbose=1)"
      ]
     },
     "execution_count": 78,
     "metadata": {},
     "output_type": "execute_result"
    }
   ],
   "source": [
    "# Define parameter grid\n",
    "param_grid_lr = {\n",
    "    'C': [0.1, 1, 10, 100],\n",
    "    'class_weight': [None, 'balanced'] \n",
    "}\n",
    "\n",
    "grid_search_scoring_method = 'f1_macro'\n",
    "\n",
    "# Initialize Grid Search\n",
    "grid_lr = GridSearchCV(estimator=lr_model, param_grid=param_grid_lr, \n",
    "                              cv=5, n_jobs=-1, verbose=1, scoring=grid_search_scoring_method)\n",
    "\n",
    "# Fit Grid Search\n",
    "grid_lr.fit(X_train_scaled, y_train)"
   ]
  },
  {
   "cell_type": "code",
   "execution_count": 79,
   "id": "05356c73-14d2-471d-a83f-7c285986de31",
   "metadata": {},
   "outputs": [
    {
     "name": "stdout",
     "output_type": "stream",
     "text": [
      "Best Parameters: {'C': 100, 'class_weight': None}\n",
      "Best Score (f1_macro): 0.5696\n"
     ]
    }
   ],
   "source": [
    "# Best parameters and score\n",
    "print(f\"Best Parameters: {grid_lr.best_params_}\")\n",
    "print(f\"Best Score ({grid_search_scoring_method}): {grid_lr.best_score_:.4f}\")"
   ]
  },
  {
   "cell_type": "code",
   "execution_count": 99,
   "id": "fddf78ed-697b-4f94-8ef9-6e1913fa5a99",
   "metadata": {},
   "outputs": [
    {
     "data": {
      "text/plain": [
       "['best_logistic_regression.pkl']"
      ]
     },
     "execution_count": 99,
     "metadata": {},
     "output_type": "execute_result"
    }
   ],
   "source": [
    "# Use the best estimator to make predictions\n",
    "best_lr = grid_lr.best_estimator_\n",
    "\n",
    "# save\n",
    "joblib.dump(best_lr, \"best_logistic_regression.pkl\") "
   ]
  },
  {
   "cell_type": "code",
   "execution_count": 101,
   "id": "1e43486c-5f70-4ad9-888e-7ac69157258f",
   "metadata": {},
   "outputs": [],
   "source": [
    "# load\n",
    "best_lr = joblib.load(\"best_logistic_regression.pkl\")"
   ]
  },
  {
   "cell_type": "code",
   "execution_count": 103,
   "id": "0ff6ac4c-d468-4788-b58f-63048229c8f0",
   "metadata": {},
   "outputs": [
    {
     "name": "stdout",
     "output_type": "stream",
     "text": [
      "Best Logistic Regression Classification Report for Police Calls:\n",
      "                   precision    recall  f1-score   support\n",
      "\n",
      "      Arrest Made       0.60      0.25      0.35      5030\n",
      "Arrest by Warrant       0.69      0.58      0.63      2387\n",
      "Criminal Citation       0.49      0.23      0.31      2901\n",
      "            Other       0.98      0.99      0.99    264740\n",
      "\n",
      "         accuracy                           0.97    275058\n",
      "        macro avg       0.69      0.51      0.57    275058\n",
      "     weighted avg       0.96      0.97      0.96    275058\n",
      "\n"
     ]
    }
   ],
   "source": [
    "y_pred_best_lr = best_lr.predict(X_test_scaled)\n",
    "\n",
    "# Evaluate the best model\n",
    "print(\"Best Logistic Regression Classification Report for Police Calls:\")\n",
    "print(classification_report(y_test, y_pred_best_lr, zero_division=0, target_names=label_names))"
   ]
  },
  {
   "cell_type": "code",
   "execution_count": 105,
   "id": "b6acd26a-7608-481f-a36c-b925c7a9e913",
   "metadata": {},
   "outputs": [
    {
     "data": {
      "text/plain": [
       "<sklearn.metrics._plot.confusion_matrix.ConfusionMatrixDisplay at 0x43ec4c9b0>"
      ]
     },
     "execution_count": 105,
     "metadata": {},
     "output_type": "execute_result"
    },
    {
     "data": {
      "image/png": "[encoded data removed]",
      "text/plain": [
       "<Figure size 640x480 with 2 Axes>"
      ]
     },
     "metadata": {},
     "output_type": "display_data"
    }
   ],
   "source": [
    "ConfusionMatrixDisplay.from_estimator(best_lr, X_test_scaled, y_test, display_labels=label_names, xticks_rotation=90, cmap=plt.cm.Blues)"
   ]
  },
  {
   "cell_type": "markdown",
   "id": "94fed4a8-b979-4e3d-b6ab-ab3b80fd89e1",
   "metadata": {},
   "source": [
    "#### Feature Importance"
   ]
  },
  {
   "cell_type": "code",
   "execution_count": 83,
   "id": "32419010-1873-4649-8a7d-550a3b66649a",
   "metadata": {},
   "outputs": [],
   "source": [
    "from sklearn.inspection import permutation_importance\n",
    "\n",
    "# Calculate permutation feature importance\n",
    "permutation_importance_result = permutation_importance(best_lr, X_test_scaled, y_test, n_repeats=5, random_state=42)"
   ]
  },
  {
   "cell_type": "code",
   "execution_count": 84,
   "id": "94974719-a0e9-4294-95a2-c8474ba81b2e",
   "metadata": {},
   "outputs": [
    {
     "name": "stdout",
     "output_type": "stream",
     "text": [
      "                  Feature  Importance                           Call Type\n",
      "201      CALLTYPE_CODE_6M    0.005307                    MISDEMEANOR WANT\n",
      "200      CALLTYPE_CODE_6F    0.003294                         FELONY WANT\n",
      "62    CALLTYPE_CODE_11300    0.002522                           NARCOTICS\n",
      "186    CALLTYPE_CODE_601T    0.002011                       TRUANT (TABS)\n",
      "67    CALLTYPE_CODE_11377    0.001728             POSSESSION OF NARCOTICS\n",
      "110   CALLTYPE_CODE_23152    0.001600                     MISDEMEANOR DUI\n",
      "83    CALLTYPE_CODE_12020    0.000920                     ILLEGAL WEAPONS\n",
      "89      CALLTYPE_CODE_148    0.000856                    RESISTING ARREST\n",
      "47   CALLTYPE_CODE_10851R    0.000823            RECOVERED STOLEN VEHICLE\n",
      "87    CALLTYPE_CODE_14601    0.000707         DRIVING W/SUSPENDED LICENSE\n",
      "0                PRIORITY    0.000580                                    \n",
      "168     CALLTYPE_CODE_484    0.000535                               THEFT\n",
      "56     CALLTYPE_CODE_1095    0.000479                     PEDESTRIAN STOP\n",
      "221    CALLTYPE_CODE_DVRO    0.000478       VIOLATION OF PROTECTIVE ORDER\n",
      "64    CALLTYPE_CODE_11350    0.000475  POSSESSION OF CONTROLLED SUBSTANCE\n"
     ]
    }
   ],
   "source": [
    "feature_names = X_train.columns\n",
    "\n",
    "call_types = []\n",
    "for feature_name in feature_names:\n",
    "    if feature_name.startswith(\"CALLTYPE_CODE_\"):\n",
    "        code = feature_name[14:]\n",
    "        call_type = call_type_code_mapping[code]\n",
    "        call_types.append(call_type)\n",
    "    else:\n",
    "        call_types.append(\"\")\n",
    "\n",
    "# Create a DataFrame of the results\n",
    "perm_importance_df = pd.DataFrame({\n",
    "    'Feature': feature_names,\n",
    "    'Importance': permutation_importance_result.importances_mean,\n",
    "    'Call Type': call_types\n",
    "})\n",
    "\n",
    "# Sort by importance and display the top 10 features\n",
    "top_perm_features = perm_importance_df.sort_values(by='Importance', ascending=False).head(15)\n",
    "print(top_perm_features)"
   ]
  },
  {
   "cell_type": "code",
   "execution_count": 113,
   "id": "8d820dea-2837-4090-96a8-e90a85c3e5c2",
   "metadata": {},
   "outputs": [
    {
     "name": "stdout",
     "output_type": "stream",
     "text": [
      "\n",
      "label = Arrest Made\n",
      "                  Feature  Coefficient                      Call Type\n",
      "47   CALLTYPE_CODE_10851R     0.379455       RECOVERED STOLEN VEHICLE\n",
      "11    CALLTYPE_CODE_1033A    -0.300251                 ALARM, AUDIBLE\n",
      "105   CALLTYPE_CODE_22500    -0.288480              PARKING VIOLATION\n",
      "110   CALLTYPE_CODE_23152     0.233557                MISDEMEANOR DUI\n",
      "221    CALLTYPE_CODE_DVRO     0.214335  VIOLATION OF PROTECTIVE ORDER\n",
      "45    CALLTYPE_CODE_10851     0.211700                 STOLEN VEHICLE\n",
      "203  CALLTYPE_CODE_911UNK    -0.197731              UNK TYPE 911 CALL\n",
      "186    CALLTYPE_CODE_601T     0.195500                  TRUANT (TABS)\n",
      "151    CALLTYPE_CODE_415M    -0.189789             DISTURBANCE, MUSIC\n",
      "144    CALLTYPE_CODE_415F     0.181845            DISTURBANCE, FAMILY\n",
      "\n",
      "label = Arrest by Warrant\n",
      "                  Feature  Coefficient                 Call Type\n",
      "78     CALLTYPE_CODE_1195     0.259206              VEHICLE STOP\n",
      "201      CALLTYPE_CODE_6M     0.244770          MISDEMEANOR WANT\n",
      "56     CALLTYPE_CODE_1095     0.183772           PEDESTRIAN STOP\n",
      "200      CALLTYPE_CODE_6F     0.183638               FELONY WANT\n",
      "0                PRIORITY    -0.166698                          \n",
      "107   CALLTYPE_CODE_23103    -0.166477          RECKLESS DRIVING\n",
      "45    CALLTYPE_CODE_10851    -0.162283            STOLEN VEHICLE\n",
      "227   CALLTYPE_CODE_WELCK     0.157952             WELFARE CHECK\n",
      "47   CALLTYPE_CODE_10851R    -0.154319  RECOVERED STOLEN VEHICLE\n",
      "69     CALLTYPE_CODE_1154     0.152037        SUSPICIOUS VEHICLE\n",
      "\n",
      "label = Criminal Citation\n",
      "                  Feature  Coefficient                 Call Type\n",
      "0                PRIORITY     0.410456                          \n",
      "168     CALLTYPE_CODE_484     0.213549                     THEFT\n",
      "107   CALLTYPE_CODE_23103     0.206896          RECKLESS DRIVING\n",
      "144    CALLTYPE_CODE_415F    -0.195502       DISTURBANCE, FAMILY\n",
      "62    CALLTYPE_CODE_11300     0.187531                 NARCOTICS\n",
      "47   CALLTYPE_CODE_10851R    -0.171235  RECOVERED STOLEN VEHICLE\n",
      "117     CALLTYPE_CODE_242     0.163830                   BATTERY\n",
      "93    CALLTYPE_CODE_20002     0.147739   MISDEMEANOR HIT AND RUN\n",
      "45    CALLTYPE_CODE_10851    -0.142809            STOLEN VEHICLE\n",
      "11    CALLTYPE_CODE_1033A    -0.139497            ALARM, AUDIBLE\n",
      "\n",
      "label = Other\n",
      "                  Feature  Coefficient           Call Type\n",
      "11    CALLTYPE_CODE_1033A     0.551595      ALARM, AUDIBLE\n",
      "105   CALLTYPE_CODE_22500     0.438355   PARKING VIOLATION\n",
      "78     CALLTYPE_CODE_1195    -0.346415        VEHICLE STOP\n",
      "151    CALLTYPE_CODE_415M     0.343275  DISTURBANCE, MUSIC\n",
      "203  CALLTYPE_CODE_911UNK     0.333613   UNK TYPE 911 CALL\n",
      "56     CALLTYPE_CODE_1095    -0.296794     PEDESTRIAN STOP\n",
      "62    CALLTYPE_CODE_11300    -0.283608           NARCOTICS\n",
      "201      CALLTYPE_CODE_6M    -0.276805    MISDEMEANOR WANT\n",
      "200      CALLTYPE_CODE_6F    -0.217098         FELONY WANT\n",
      "189   CALLTYPE_CODE_602PC    -0.203616         TRESPASSING\n"
     ]
    }
   ],
   "source": [
    "for index, coefficients in enumerate(best_lr.coef_):\n",
    "    # Get the model's coefficients\n",
    "    # coefficients = best_lr.coef_[0]\n",
    "    \n",
    "    # Create a DataFrame of feature names and their corresponding coefficients\n",
    "    coef_df = pd.DataFrame({\n",
    "        'Feature': feature_names,\n",
    "        'Coefficient': coefficients,\n",
    "        'Call Type': call_types\n",
    "    })\n",
    "    \n",
    "    # Sort by the absolute value of the coefficients\n",
    "    coef_df['Abs_Coefficient'] = np.abs(coef_df['Coefficient'])\n",
    "    top_10_features = coef_df.sort_values(by='Abs_Coefficient', ascending=False).head(10)\n",
    "    \n",
    "    # Display the top 10 most important features\n",
    "    print(f\"\\nlabel = {label_names[index]}\")\n",
    "    print(top_10_features[['Feature', 'Coefficient', 'Call Type']])"
   ]
  },
  {
   "cell_type": "markdown",
   "id": "72c98dda-710d-4484-b6cc-a621e75023d3",
   "metadata": {},
   "source": [
    "### Random Forest"
   ]
  },
  {
   "cell_type": "code",
   "execution_count": 115,
   "id": "7298a53f-2c6d-4f7f-bc9a-aeccdf08170d",
   "metadata": {},
   "outputs": [
    {
     "data": {
      "text/html": [
       "<style>#sk-container-id-2 {\n",
       "  /* Definition of color scheme common for light and dark mode */\n",
       "  --sklearn-color-text: black;\n",
       "  --sklearn-color-line: gray;\n",
       "  /* Definition of color scheme for unfitted estimators */\n",
       "  --sklearn-color-unfitted-level-0: #fff5e6;\n",
       "  --sklearn-color-unfitted-level-1: #f6e4d2;\n",
       "  --sklearn-color-unfitted-level-2: #ffe0b3;\n",
       "  --sklearn-color-unfitted-level-3: chocolate;\n",
       "  /* Definition of color scheme for fitted estimators */\n",
       "  --sklearn-color-fitted-level-0: #f0f8ff;\n",
       "  --sklearn-color-fitted-level-1: #d4ebff;\n",
       "  --sklearn-color-fitted-level-2: #b3dbfd;\n",
       "  --sklearn-color-fitted-level-3: cornflowerblue;\n",
       "\n",
       "  /* Specific color for light theme */\n",
       "  --sklearn-color-text-on-default-background: var(--sg-text-color, var(--theme-code-foreground, var(--jp-content-font-color1, black)));\n",
       "  --sklearn-color-background: var(--sg-background-color, var(--theme-background, var(--jp-layout-color0, white)));\n",
       "  --sklearn-color-border-box: var(--sg-text-color, var(--theme-code-foreground, var(--jp-content-font-color1, black)));\n",
       "  --sklearn-color-icon: #696969;\n",
       "\n",
       "  @media (prefers-color-scheme: dark) {\n",
       "    /* Redefinition of color scheme for dark theme */\n",
       "    --sklearn-color-text-on-default-background: var(--sg-text-color, var(--theme-code-foreground, var(--jp-content-font-color1, white)));\n",
       "    --sklearn-color-background: var(--sg-background-color, var(--theme-background, var(--jp-layout-color0, #111)));\n",
       "    --sklearn-color-border-box: var(--sg-text-color, var(--theme-code-foreground, var(--jp-content-font-color1, white)));\n",
       "    --sklearn-color-icon: #878787;\n",
       "  }\n",
       "}\n",
       "\n",
       "#sk-container-id-2 {\n",
       "  color: var(--sklearn-color-text);\n",
       "}\n",
       "\n",
       "#sk-container-id-2 pre {\n",
       "  padding: 0;\n",
       "}\n",
       "\n",
       "#sk-container-id-2 input.sk-hidden--visually {\n",
       "  border: 0;\n",
       "  clip: rect(1px 1px 1px 1px);\n",
       "  clip: rect(1px, 1px, 1px, 1px);\n",
       "  height: 1px;\n",
       "  margin: -1px;\n",
       "  overflow: hidden;\n",
       "  padding: 0;\n",
       "  position: absolute;\n",
       "  width: 1px;\n",
       "}\n",
       "\n",
       "#sk-container-id-2 div.sk-dashed-wrapped {\n",
       "  border: 1px dashed var(--sklearn-color-line);\n",
       "  margin: 0 0.4em 0.5em 0.4em;\n",
       "  box-sizing: border-box;\n",
       "  padding-bottom: 0.4em;\n",
       "  background-color: var(--sklearn-color-background);\n",
       "}\n",
       "\n",
       "#sk-container-id-2 div.sk-container {\n",
       "  /* jupyter's `normalize.less` sets `[hidden] { display: none; }`\n",
       "     but bootstrap.min.css set `[hidden] { display: none !important; }`\n",
       "     so we also need the `!important` here to be able to override the\n",
       "     default hidden behavior on the sphinx rendered scikit-learn.org.\n",
       "     See: https://github.com/scikit-learn/scikit-learn/issues/21755 */\n",
       "  display: inline-block !important;\n",
       "  position: relative;\n",
       "}\n",
       "\n",
       "#sk-container-id-2 div.sk-text-repr-fallback {\n",
       "  display: none;\n",
       "}\n",
       "\n",
       "div.sk-parallel-item,\n",
       "div.sk-serial,\n",
       "div.sk-item {\n",
       "  /* draw centered vertical line to link estimators */\n",
       "  background-image: linear-gradient(var(--sklearn-color-text-on-default-background), var(--sklearn-color-text-on-default-background));\n",
       "  background-size: 2px 100%;\n",
       "  background-repeat: no-repeat;\n",
       "  background-position: center center;\n",
       "}\n",
       "\n",
       "/* Parallel-specific style estimator block */\n",
       "\n",
       "#sk-container-id-2 div.sk-parallel-item::after {\n",
       "  content: \"\";\n",
       "  width: 100%;\n",
       "  border-bottom: 2px solid var(--sklearn-color-text-on-default-background);\n",
       "  flex-grow: 1;\n",
       "}\n",
       "\n",
       "#sk-container-id-2 div.sk-parallel {\n",
       "  display: flex;\n",
       "  align-items: stretch;\n",
       "  justify-content: center;\n",
       "  background-color: var(--sklearn-color-background);\n",
       "  position: relative;\n",
       "}\n",
       "\n",
       "#sk-container-id-2 div.sk-parallel-item {\n",
       "  display: flex;\n",
       "  flex-direction: column;\n",
       "}\n",
       "\n",
       "#sk-container-id-2 div.sk-parallel-item:first-child::after {\n",
       "  align-self: flex-end;\n",
       "  width: 50%;\n",
       "}\n",
       "\n",
       "#sk-container-id-2 div.sk-parallel-item:last-child::after {\n",
       "  align-self: flex-start;\n",
       "  width: 50%;\n",
       "}\n",
       "\n",
       "#sk-container-id-2 div.sk-parallel-item:only-child::after {\n",
       "  width: 0;\n",
       "}\n",
       "\n",
       "/* Serial-specific style estimator block */\n",
       "\n",
       "#sk-container-id-2 div.sk-serial {\n",
       "  display: flex;\n",
       "  flex-direction: column;\n",
       "  align-items: center;\n",
       "  background-color: var(--sklearn-color-background);\n",
       "  padding-right: 1em;\n",
       "  padding-left: 1em;\n",
       "}\n",
       "\n",
       "\n",
       "/* Toggleable style: style used for estimator/Pipeline/ColumnTransformer box that is\n",
       "clickable and can be expanded/collapsed.\n",
       "- Pipeline and ColumnTransformer use this feature and define the default style\n",
       "- Estimators will overwrite some part of the style using the `sk-estimator` class\n",
       "*/\n",
       "\n",
       "/* Pipeline and ColumnTransformer style (default) */\n",
       "\n",
       "#sk-container-id-2 div.sk-toggleable {\n",
       "  /* Default theme specific background. It is overwritten whether we have a\n",
       "  specific estimator or a Pipeline/ColumnTransformer */\n",
       "  background-color: var(--sklearn-color-background);\n",
       "}\n",
       "\n",
       "/* Toggleable label */\n",
       "#sk-container-id-2 label.sk-toggleable__label {\n",
       "  cursor: pointer;\n",
       "  display: block;\n",
       "  width: 100%;\n",
       "  margin-bottom: 0;\n",
       "  padding: 0.5em;\n",
       "  box-sizing: border-box;\n",
       "  text-align: center;\n",
       "}\n",
       "\n",
       "#sk-container-id-2 label.sk-toggleable__label-arrow:before {\n",
       "  /* Arrow on the left of the label */\n",
       "  content: \"▸\";\n",
       "  float: left;\n",
       "  margin-right: 0.25em;\n",
       "  color: var(--sklearn-color-icon);\n",
       "}\n",
       "\n",
       "#sk-container-id-2 label.sk-toggleable__label-arrow:hover:before {\n",
       "  color: var(--sklearn-color-text);\n",
       "}\n",
       "\n",
       "/* Toggleable content - dropdown */\n",
       "\n",
       "#sk-container-id-2 div.sk-toggleable__content {\n",
       "  max-height: 0;\n",
       "  max-width: 0;\n",
       "  overflow: hidden;\n",
       "  text-align: left;\n",
       "  /* unfitted */\n",
       "  background-color: var(--sklearn-color-unfitted-level-0);\n",
       "}\n",
       "\n",
       "#sk-container-id-2 div.sk-toggleable__content.fitted {\n",
       "  /* fitted */\n",
       "  background-color: var(--sklearn-color-fitted-level-0);\n",
       "}\n",
       "\n",
       "#sk-container-id-2 div.sk-toggleable__content pre {\n",
       "  margin: 0.2em;\n",
       "  border-radius: 0.25em;\n",
       "  color: var(--sklearn-color-text);\n",
       "  /* unfitted */\n",
       "  background-color: var(--sklearn-color-unfitted-level-0);\n",
       "}\n",
       "\n",
       "#sk-container-id-2 div.sk-toggleable__content.fitted pre {\n",
       "  /* unfitted */\n",
       "  background-color: var(--sklearn-color-fitted-level-0);\n",
       "}\n",
       "\n",
       "#sk-container-id-2 input.sk-toggleable__control:checked~div.sk-toggleable__content {\n",
       "  /* Expand drop-down */\n",
       "  max-height: 200px;\n",
       "  max-width: 100%;\n",
       "  overflow: auto;\n",
       "}\n",
       "\n",
       "#sk-container-id-2 input.sk-toggleable__control:checked~label.sk-toggleable__label-arrow:before {\n",
       "  content: \"▾\";\n",
       "}\n",
       "\n",
       "/* Pipeline/ColumnTransformer-specific style */\n",
       "\n",
       "#sk-container-id-2 div.sk-label input.sk-toggleable__control:checked~label.sk-toggleable__label {\n",
       "  color: var(--sklearn-color-text);\n",
       "  background-color: var(--sklearn-color-unfitted-level-2);\n",
       "}\n",
       "\n",
       "#sk-container-id-2 div.sk-label.fitted input.sk-toggleable__control:checked~label.sk-toggleable__label {\n",
       "  background-color: var(--sklearn-color-fitted-level-2);\n",
       "}\n",
       "\n",
       "/* Estimator-specific style */\n",
       "\n",
       "/* Colorize estimator box */\n",
       "#sk-container-id-2 div.sk-estimator input.sk-toggleable__control:checked~label.sk-toggleable__label {\n",
       "  /* unfitted */\n",
       "  background-color: var(--sklearn-color-unfitted-level-2);\n",
       "}\n",
       "\n",
       "#sk-container-id-2 div.sk-estimator.fitted input.sk-toggleable__control:checked~label.sk-toggleable__label {\n",
       "  /* fitted */\n",
       "  background-color: var(--sklearn-color-fitted-level-2);\n",
       "}\n",
       "\n",
       "#sk-container-id-2 div.sk-label label.sk-toggleable__label,\n",
       "#sk-container-id-2 div.sk-label label {\n",
       "  /* The background is the default theme color */\n",
       "  color: var(--sklearn-color-text-on-default-background);\n",
       "}\n",
       "\n",
       "/* On hover, darken the color of the background */\n",
       "#sk-container-id-2 div.sk-label:hover label.sk-toggleable__label {\n",
       "  color: var(--sklearn-color-text);\n",
       "  background-color: var(--sklearn-color-unfitted-level-2);\n",
       "}\n",
       "\n",
       "/* Label box, darken color on hover, fitted */\n",
       "#sk-container-id-2 div.sk-label.fitted:hover label.sk-toggleable__label.fitted {\n",
       "  color: var(--sklearn-color-text);\n",
       "  background-color: var(--sklearn-color-fitted-level-2);\n",
       "}\n",
       "\n",
       "/* Estimator label */\n",
       "\n",
       "#sk-container-id-2 div.sk-label label {\n",
       "  font-family: monospace;\n",
       "  font-weight: bold;\n",
       "  display: inline-block;\n",
       "  line-height: 1.2em;\n",
       "}\n",
       "\n",
       "#sk-container-id-2 div.sk-label-container {\n",
       "  text-align: center;\n",
       "}\n",
       "\n",
       "/* Estimator-specific */\n",
       "#sk-container-id-2 div.sk-estimator {\n",
       "  font-family: monospace;\n",
       "  border: 1px dotted var(--sklearn-color-border-box);\n",
       "  border-radius: 0.25em;\n",
       "  box-sizing: border-box;\n",
       "  margin-bottom: 0.5em;\n",
       "  /* unfitted */\n",
       "  background-color: var(--sklearn-color-unfitted-level-0);\n",
       "}\n",
       "\n",
       "#sk-container-id-2 div.sk-estimator.fitted {\n",
       "  /* fitted */\n",
       "  background-color: var(--sklearn-color-fitted-level-0);\n",
       "}\n",
       "\n",
       "/* on hover */\n",
       "#sk-container-id-2 div.sk-estimator:hover {\n",
       "  /* unfitted */\n",
       "  background-color: var(--sklearn-color-unfitted-level-2);\n",
       "}\n",
       "\n",
       "#sk-container-id-2 div.sk-estimator.fitted:hover {\n",
       "  /* fitted */\n",
       "  background-color: var(--sklearn-color-fitted-level-2);\n",
       "}\n",
       "\n",
       "/* Specification for estimator info (e.g. \"i\" and \"?\") */\n",
       "\n",
       "/* Common style for \"i\" and \"?\" */\n",
       "\n",
       ".sk-estimator-doc-link,\n",
       "a:link.sk-estimator-doc-link,\n",
       "a:visited.sk-estimator-doc-link {\n",
       "  float: right;\n",
       "  font-size: smaller;\n",
       "  line-height: 1em;\n",
       "  font-family: monospace;\n",
       "  background-color: var(--sklearn-color-background);\n",
       "  border-radius: 1em;\n",
       "  height: 1em;\n",
       "  width: 1em;\n",
       "  text-decoration: none !important;\n",
       "  margin-left: 1ex;\n",
       "  /* unfitted */\n",
       "  border: var(--sklearn-color-unfitted-level-1) 1pt solid;\n",
       "  color: var(--sklearn-color-unfitted-level-1);\n",
       "}\n",
       "\n",
       ".sk-estimator-doc-link.fitted,\n",
       "a:link.sk-estimator-doc-link.fitted,\n",
       "a:visited.sk-estimator-doc-link.fitted {\n",
       "  /* fitted */\n",
       "  border: var(--sklearn-color-fitted-level-1) 1pt solid;\n",
       "  color: var(--sklearn-color-fitted-level-1);\n",
       "}\n",
       "\n",
       "/* On hover */\n",
       "div.sk-estimator:hover .sk-estimator-doc-link:hover,\n",
       ".sk-estimator-doc-link:hover,\n",
       "div.sk-label-container:hover .sk-estimator-doc-link:hover,\n",
       ".sk-estimator-doc-link:hover {\n",
       "  /* unfitted */\n",
       "  background-color: var(--sklearn-color-unfitted-level-3);\n",
       "  color: var(--sklearn-color-background);\n",
       "  text-decoration: none;\n",
       "}\n",
       "\n",
       "div.sk-estimator.fitted:hover .sk-estimator-doc-link.fitted:hover,\n",
       ".sk-estimator-doc-link.fitted:hover,\n",
       "div.sk-label-container:hover .sk-estimator-doc-link.fitted:hover,\n",
       ".sk-estimator-doc-link.fitted:hover {\n",
       "  /* fitted */\n",
       "  background-color: var(--sklearn-color-fitted-level-3);\n",
       "  color: var(--sklearn-color-background);\n",
       "  text-decoration: none;\n",
       "}\n",
       "\n",
       "/* Span, style for the box shown on hovering the info icon */\n",
       ".sk-estimator-doc-link span {\n",
       "  display: none;\n",
       "  z-index: 9999;\n",
       "  position: relative;\n",
       "  font-weight: normal;\n",
       "  right: .2ex;\n",
       "  padding: .5ex;\n",
       "  margin: .5ex;\n",
       "  width: min-content;\n",
       "  min-width: 20ex;\n",
       "  max-width: 50ex;\n",
       "  color: var(--sklearn-color-text);\n",
       "  box-shadow: 2pt 2pt 4pt #999;\n",
       "  /* unfitted */\n",
       "  background: var(--sklearn-color-unfitted-level-0);\n",
       "  border: .5pt solid var(--sklearn-color-unfitted-level-3);\n",
       "}\n",
       "\n",
       ".sk-estimator-doc-link.fitted span {\n",
       "  /* fitted */\n",
       "  background: var(--sklearn-color-fitted-level-0);\n",
       "  border: var(--sklearn-color-fitted-level-3);\n",
       "}\n",
       "\n",
       ".sk-estimator-doc-link:hover span {\n",
       "  display: block;\n",
       "}\n",
       "\n",
       "/* \"?\"-specific style due to the `<a>` HTML tag */\n",
       "\n",
       "#sk-container-id-2 a.estimator_doc_link {\n",
       "  float: right;\n",
       "  font-size: 1rem;\n",
       "  line-height: 1em;\n",
       "  font-family: monospace;\n",
       "  background-color: var(--sklearn-color-background);\n",
       "  border-radius: 1rem;\n",
       "  height: 1rem;\n",
       "  width: 1rem;\n",
       "  text-decoration: none;\n",
       "  /* unfitted */\n",
       "  color: var(--sklearn-color-unfitted-level-1);\n",
       "  border: var(--sklearn-color-unfitted-level-1) 1pt solid;\n",
       "}\n",
       "\n",
       "#sk-container-id-2 a.estimator_doc_link.fitted {\n",
       "  /* fitted */\n",
       "  border: var(--sklearn-color-fitted-level-1) 1pt solid;\n",
       "  color: var(--sklearn-color-fitted-level-1);\n",
       "}\n",
       "\n",
       "/* On hover */\n",
       "#sk-container-id-2 a.estimator_doc_link:hover {\n",
       "  /* unfitted */\n",
       "  background-color: var(--sklearn-color-unfitted-level-3);\n",
       "  color: var(--sklearn-color-background);\n",
       "  text-decoration: none;\n",
       "}\n",
       "\n",
       "#sk-container-id-2 a.estimator_doc_link.fitted:hover {\n",
       "  /* fitted */\n",
       "  background-color: var(--sklearn-color-fitted-level-3);\n",
       "}\n",
       "</style><div id=\"sk-container-id-2\" class=\"sk-top-container\"><div class=\"sk-text-repr-fallback\"><pre>RandomForestClassifier(class_weight=&#x27;balanced&#x27;, n_jobs=2, random_state=42)</pre><b>In a Jupyter environment, please rerun this cell to show the HTML representation or trust the notebook. <br />On GitHub, the HTML representation is unable to render, please try loading this page with nbviewer.org.</b></div><div class=\"sk-container\" hidden><div class=\"sk-item\"><div class=\"sk-estimator fitted sk-toggleable\"><input class=\"sk-toggleable__control sk-hidden--visually\" id=\"sk-estimator-id-4\" type=\"checkbox\" checked><label for=\"sk-estimator-id-4\" class=\"sk-toggleable__label fitted sk-toggleable__label-arrow fitted\">&nbsp;&nbsp;RandomForestClassifier<a class=\"sk-estimator-doc-link fitted\" rel=\"noreferrer\" target=\"_blank\" href=\"https://scikit-learn.org/1.4/modules/generated/sklearn.ensemble.RandomForestClassifier.html\">?<span>Documentation for RandomForestClassifier</span></a><span class=\"sk-estimator-doc-link fitted\">i<span>Fitted</span></span></label><div class=\"sk-toggleable__content fitted\"><pre>RandomForestClassifier(class_weight=&#x27;balanced&#x27;, n_jobs=2, random_state=42)</pre></div> </div></div></div></div>"
      ],
      "text/plain": [
       "RandomForestClassifier(class_weight='balanced', n_jobs=2, random_state=42)"
      ]
     },
     "execution_count": 115,
     "metadata": {},
     "output_type": "execute_result"
    }
   ],
   "source": [
    "rf_model = RandomForestClassifier(n_estimators=100, random_state=42, class_weight='balanced', n_jobs = 2)\n",
    "rf_model.fit(X_train_scaled, y_train)"
   ]
  },
  {
   "cell_type": "code",
   "execution_count": 116,
   "id": "ce50e009-67f1-4551-9c55-effed29ade0b",
   "metadata": {},
   "outputs": [
    {
     "name": "stdout",
     "output_type": "stream",
     "text": [
      "Random Forest Classification Report:\n",
      "                   precision    recall  f1-score   support\n",
      "\n",
      "      Arrest Made       0.41      0.26      0.32      5030\n",
      "Arrest by Warrant       0.44      0.51      0.47      2387\n",
      "Criminal Citation       0.25      0.25      0.25      2901\n",
      "            Other       0.98      0.98      0.98    264740\n",
      "\n",
      "         accuracy                           0.96    275058\n",
      "        macro avg       0.52      0.50      0.51    275058\n",
      "     weighted avg       0.95      0.96      0.96    275058\n",
      "\n"
     ]
    }
   ],
   "source": [
    "y_pred_rf = rf_model.predict(X_test_scaled)\n",
    "\n",
    "print(\"Random Forest Classification Report:\")\n",
    "print(classification_report(y_test, y_pred_rf, zero_division=0, target_names=label_names))"
   ]
  },
  {
   "cell_type": "markdown",
   "id": "c5daf59b-a7f5-4bd7-a7a8-1e29ff675eaf",
   "metadata": {},
   "source": [
    "#### Hyperparameter Tuning"
   ]
  },
  {
   "cell_type": "code",
   "execution_count": 121,
   "id": "6f0ce652-606b-4a92-b44e-0155e05ee11f",
   "metadata": {},
   "outputs": [
    {
     "name": "stdout",
     "output_type": "stream",
     "text": [
      "Fitting 5 folds for each of 4 candidates, totalling 20 fits\n",
      "Best Parameters: {'max_depth': None, 'n_estimators': 200}\n",
      "Best Score (f1_macro): 0.51\n"
     ]
    }
   ],
   "source": [
    "# Define parameter grid for Random Forest\n",
    "param_grid_rf = {\n",
    "    'n_estimators': [100, 200],\n",
    "    'max_depth': [None, 30]\n",
    "}\n",
    "\n",
    "# Initialize Grid Search\n",
    "grid_rf = GridSearchCV(estimator=rf_model, param_grid=param_grid_rf, \n",
    "                              cv=5, n_jobs=-1, verbose=1, scoring=grid_search_scoring_method)\n",
    "\n",
    "# Fit Grid Search\n",
    "grid_rf.fit(X_train_scaled, y_train)\n",
    "\n",
    "# Best parameters and score\n",
    "print(f\"Best Parameters: {grid_rf.best_params_}\")\n",
    "print(f\"Best Score ({grid_search_scoring_method}): {grid_rf.best_score_:.2f}\")"
   ]
  },
  {
   "cell_type": "code",
   "execution_count": 193,
   "id": "4672471a-9c25-460d-851b-0ae8e9f63793",
   "metadata": {},
   "outputs": [
    {
     "data": {
      "text/plain": [
       "['best_random_forest.pkl']"
      ]
     },
     "execution_count": 193,
     "metadata": {},
     "output_type": "execute_result"
    }
   ],
   "source": [
    "best_rf = grid_rf.best_estimator_\n",
    "# save\n",
    "joblib.dump(best_rf, \"best_random_forest.pkl\") "
   ]
  },
  {
   "cell_type": "code",
   "execution_count": 195,
   "id": "e458b475-dbe7-4480-9386-44ba9553375d",
   "metadata": {},
   "outputs": [],
   "source": [
    "best_rf = joblib.load(\"best_random_forest.pkl\")"
   ]
  },
  {
   "cell_type": "code",
   "execution_count": 197,
   "id": "693bc739-24ec-4218-b10e-49140a1d32ff",
   "metadata": {},
   "outputs": [
    {
     "name": "stdout",
     "output_type": "stream",
     "text": [
      "Best Random Forest Classification Report:\n",
      "                   precision    recall  f1-score   support\n",
      "\n",
      "      Arrest Made       0.42      0.26      0.32      5030\n",
      "Arrest by Warrant       0.44      0.51      0.47      2387\n",
      "Criminal Citation       0.25      0.26      0.26      2901\n",
      "            Other       0.98      0.98      0.98    264740\n",
      "\n",
      "         accuracy                           0.96    275058\n",
      "        macro avg       0.52      0.50      0.51    275058\n",
      "     weighted avg       0.95      0.96      0.96    275058\n",
      "\n"
     ]
    }
   ],
   "source": [
    "# Use the best estimator to make predictions\n",
    "\n",
    "y_pred_best_rf = best_rf.predict(X_test_scaled)\n",
    "\n",
    "# Evaluate the best model\n",
    "print(\"Best Random Forest Classification Report:\")\n",
    "print(classification_report(y_test, y_pred_best_rf, zero_division=0, target_names=label_names))"
   ]
  },
  {
   "cell_type": "code",
   "execution_count": 199,
   "id": "0da7fec1-a2c5-4da9-bfa5-69e734192a67",
   "metadata": {},
   "outputs": [
    {
     "data": {
      "image/png": "[encoded data removed]",
      "text/plain": [
       "<Figure size 640x480 with 2 Axes>"
      ]
     },
     "metadata": {},
     "output_type": "display_data"
    }
   ],
   "source": [
    "ConfusionMatrixDisplay.from_estimator(best_rf, X_test_scaled, y_test, display_labels=label_names, xticks_rotation=90, cmap=plt.cm.Blues)\n",
    "plt.show()"
   ]
  },
  {
   "cell_type": "markdown",
   "id": "b842965d-d258-46f3-a67f-25ba7d8fa46d",
   "metadata": {},
   "source": [
    "### Multilayer Perceptron Model"
   ]
  },
  {
   "cell_type": "code",
   "execution_count": 132,
   "id": "5515ee5c-d0c7-4b9e-a558-c933fb11012b",
   "metadata": {},
   "outputs": [],
   "source": [
    "# Set up early stopping and model checkpoint callbacks so we choose the best model\n",
    "\n",
    "# Define the callbacks\n",
    "early_stopping = EarlyStopping(\n",
    "    monitor='val_loss',  # monitor validation loss\n",
    "    patience=3,          # stop training if val_loss doesn't improve for 3 epochs\n",
    "    restore_best_weights=True  # restore model to the epoch with the best val_loss\n",
    ")\n",
    "\n",
    "# Save the best model\n",
    "model_checkpoint = ModelCheckpoint(\n",
    "    'best_model.mcp.keras',    # path to save the best model\n",
    "    monitor='val_loss', # monitor validation loss\n",
    "    save_best_only=True # only save the model with the best val_loss\n",
    ")"
   ]
  },
  {
   "cell_type": "code",
   "execution_count": 134,
   "id": "60ad3ee9-ba1e-484e-a234-0248895ac40c",
   "metadata": {},
   "outputs": [],
   "source": [
    "# Build the MLP model\n",
    "mlp_model = Sequential()\n",
    "mlp_model.add(Input(shape=(X_train_scaled.shape[1],)))\n",
    "mlp_model.add(Dense(512, activation='relu'))\n",
    "mlp_model.add(Dense(128, activation='relu'))\n",
    "mlp_model.add(Dropout(0.2))  # Optional dropout to prevent overfitting\n",
    "mlp_model.add(Dense(64, activation='relu'))\n",
    "mlp_model.add(Dense(32, activation='relu'))\n",
    "mlp_model.add(Dropout(0.2))\n",
    "mlp_model.add(Dense(len(np.unique(y_train)), activation='softmax'))  # Output layer\n",
    "\n",
    "mlp_model.compile(optimizer='adam', loss='sparse_categorical_crossentropy', metrics=['accuracy'])"
   ]
  },
  {
   "cell_type": "code",
   "execution_count": 136,
   "id": "2f2190e2-c8e2-42df-b389-54119fef889f",
   "metadata": {},
   "outputs": [
    {
     "name": "stdout",
     "output_type": "stream",
     "text": [
      "Epoch 1/10\n",
      "\u001b[1m6877/6877\u001b[0m \u001b[32m━━━━━━━━━━━━━━━━━━━━\u001b[0m\u001b[37m\u001b[0m \u001b[1m21s\u001b[0m 3ms/step - accuracy: 0.9630 - loss: 0.1521 - val_accuracy: 0.9692 - val_loss: 0.1181\n",
      "Epoch 2/10\n",
      "\u001b[1m6877/6877\u001b[0m \u001b[32m━━━━━━━━━━━━━━━━━━━━\u001b[0m\u001b[37m\u001b[0m \u001b[1m20s\u001b[0m 3ms/step - accuracy: 0.9675 - loss: 0.1214 - val_accuracy: 0.9690 - val_loss: 0.1169\n",
      "Epoch 3/10\n",
      "\u001b[1m6877/6877\u001b[0m \u001b[32m━━━━━━━━━━━━━━━━━━━━\u001b[0m\u001b[37m\u001b[0m \u001b[1m20s\u001b[0m 3ms/step - accuracy: 0.9682 - loss: 0.1188 - val_accuracy: 0.9683 - val_loss: 0.1165\n",
      "Epoch 4/10\n",
      "\u001b[1m6877/6877\u001b[0m \u001b[32m━━━━━━━━━━━━━━━━━━━━\u001b[0m\u001b[37m\u001b[0m \u001b[1m21s\u001b[0m 3ms/step - accuracy: 0.9682 - loss: 0.1172 - val_accuracy: 0.9689 - val_loss: 0.1159\n",
      "Epoch 5/10\n",
      "\u001b[1m6877/6877\u001b[0m \u001b[32m━━━━━━━━━━━━━━━━━━━━\u001b[0m\u001b[37m\u001b[0m \u001b[1m21s\u001b[0m 3ms/step - accuracy: 0.9680 - loss: 0.1184 - val_accuracy: 0.9690 - val_loss: 0.1162\n",
      "Epoch 6/10\n",
      "\u001b[1m6877/6877\u001b[0m \u001b[32m━━━━━━━━━━━━━━━━━━━━\u001b[0m\u001b[37m\u001b[0m \u001b[1m21s\u001b[0m 3ms/step - accuracy: 0.9684 - loss: 0.1165 - val_accuracy: 0.9689 - val_loss: 0.1166\n",
      "Epoch 7/10\n",
      "\u001b[1m6877/6877\u001b[0m \u001b[32m━━━━━━━━━━━━━━━━━━━━\u001b[0m\u001b[37m\u001b[0m \u001b[1m21s\u001b[0m 3ms/step - accuracy: 0.9684 - loss: 0.1168 - val_accuracy: 0.9691 - val_loss: 0.1164\n"
     ]
    }
   ],
   "source": [
    "# Train the model\n",
    "history = mlp_model.fit(X_train_scaled, y_train, epochs=10, batch_size=128, validation_split=0.2, \n",
    "                        callbacks=[early_stopping, model_checkpoint])"
   ]
  },
  {
   "cell_type": "code",
   "execution_count": 138,
   "id": "21b699d9-cd36-4619-9b94-c93032d0a75d",
   "metadata": {},
   "outputs": [
    {
     "name": "stdout",
     "output_type": "stream",
     "text": [
      "\u001b[1m8596/8596\u001b[0m \u001b[32m━━━━━━━━━━━━━━━━━━━━\u001b[0m\u001b[37m\u001b[0m \u001b[1m4s\u001b[0m 444us/step - accuracy: 0.9686 - loss: 0.1173\n",
      "Test Accuracy: 0.9688\n"
     ]
    }
   ],
   "source": [
    "# Evaluate on test data\n",
    "test_loss, test_acc = mlp_model.evaluate(X_test_scaled, y_test)\n",
    "print(f'Test Accuracy: {test_acc:.4f}')"
   ]
  },
  {
   "cell_type": "code",
   "execution_count": 140,
   "id": "8b024b2e-078f-44df-8259-937cb5d84b23",
   "metadata": {},
   "outputs": [
    {
     "name": "stdout",
     "output_type": "stream",
     "text": [
      "\u001b[1m8596/8596\u001b[0m \u001b[32m━━━━━━━━━━━━━━━━━━━━\u001b[0m\u001b[37m\u001b[0m \u001b[1m4s\u001b[0m 442us/step\n",
      "Neural Network Classification Report:\n",
      "                   precision    recall  f1-score   support\n",
      "\n",
      "      Arrest Made       0.60      0.26      0.36      5030\n",
      "Arrest by Warrant       0.69      0.57      0.62      2387\n",
      "Criminal Citation       0.49      0.20      0.28      2901\n",
      "            Other       0.98      0.99      0.99    264740\n",
      "\n",
      "         accuracy                           0.97    275058\n",
      "        macro avg       0.69      0.50      0.56    275058\n",
      "     weighted avg       0.96      0.97      0.96    275058\n",
      "\n"
     ]
    }
   ],
   "source": [
    "# Make predictions\n",
    "y_pred_nn = mlp_model.predict(X_test_scaled)\n",
    "y_pred_nn_classes = np.argmax(y_pred_nn, axis=1)\n",
    "\n",
    "# Classification report\n",
    "print(\"Neural Network Classification Report:\")\n",
    "print(classification_report(y_test, y_pred_nn_classes, zero_division=0, target_names=label_names))"
   ]
  },
  {
   "cell_type": "code",
   "execution_count": 142,
   "id": "16604a8e-c071-467d-9b72-92cc8542f715",
   "metadata": {},
   "outputs": [
    {
     "data": {
      "image/png": "[encoded data removed]",
      "text/plain": [
       "<Figure size 640x480 with 2 Axes>"
      ]
     },
     "metadata": {},
     "output_type": "display_data"
    }
   ],
   "source": [
    "cm = confusion_matrix(y_test, y_pred_nn_classes)\n",
    "disp = ConfusionMatrixDisplay(confusion_matrix=cm, display_labels=label_names)\n",
    "disp.plot(cmap=plt.cm.Blues, xticks_rotation=90)\n",
    "plt.show()"
   ]
  },
  {
   "cell_type": "markdown",
   "id": "6d4a8fdf-93bc-451e-aaac-92d668371ba8",
   "metadata": {},
   "source": [
    "### MLP #2"
   ]
  },
  {
   "cell_type": "code",
   "execution_count": 145,
   "id": "e1c845f0-d888-42c9-b598-737d8a4539bb",
   "metadata": {},
   "outputs": [],
   "source": [
    "mlp_model_improved = Sequential([\n",
    "    Input(shape=(X_train_scaled.shape[1],)),\n",
    "    Dense(512, activation='relu', kernel_regularizer=l2(0.01)),\n",
    "    Dense(256, activation='relu', kernel_regularizer=l2(0.01)),\n",
    "    BatchNormalization(),\n",
    "    Dropout(0.3),\n",
    "    Dense(128, activation='relu', kernel_regularizer=l2(0.01)),\n",
    "    BatchNormalization(),\n",
    "    Dropout(0.3),\n",
    "    Dense(64, activation='relu', kernel_regularizer=l2(0.01)),\n",
    "    Dense(32, activation='relu', kernel_regularizer=l2(0.01)),\n",
    "    BatchNormalization(),\n",
    "    Dropout(0.3),\n",
    "    Dense(len(np.unique(y_train)), activation='softmax')\n",
    "])\n",
    "\n",
    "mlp_model_improved.compile(optimizer='adam', loss='sparse_categorical_crossentropy', metrics=['accuracy'])"
   ]
  },
  {
   "cell_type": "code",
   "execution_count": 147,
   "id": "a1fd32ee-ba40-4eb7-9ddd-b787ad13f645",
   "metadata": {},
   "outputs": [
    {
     "name": "stdout",
     "output_type": "stream",
     "text": [
      "Epoch 1/10\n",
      "\u001b[1m6877/6877\u001b[0m \u001b[32m━━━━━━━━━━━━━━━━━━━━\u001b[0m\u001b[37m\u001b[0m \u001b[1m32s\u001b[0m 5ms/step - accuracy: 0.9093 - loss: 1.4998 - val_accuracy: 0.9673 - val_loss: 0.1389\n",
      "Epoch 2/10\n",
      "\u001b[1m6877/6877\u001b[0m \u001b[32m━━━━━━━━━━━━━━━━━━━━\u001b[0m\u001b[37m\u001b[0m \u001b[1m31s\u001b[0m 5ms/step - accuracy: 0.9657 - loss: 0.1421 - val_accuracy: 0.9666 - val_loss: 0.1398\n",
      "Epoch 3/10\n",
      "\u001b[1m6877/6877\u001b[0m \u001b[32m━━━━━━━━━━━━━━━━━━━━\u001b[0m\u001b[37m\u001b[0m \u001b[1m31s\u001b[0m 5ms/step - accuracy: 0.9662 - loss: 0.1391 - val_accuracy: 0.9679 - val_loss: 0.1354\n"
     ]
    }
   ],
   "source": [
    "history = mlp_model_improved.fit(X_train_scaled, y_train, epochs=10, batch_size=128, validation_split=0.2, \n",
    "                        callbacks=[early_stopping, model_checkpoint])"
   ]
  },
  {
   "cell_type": "code",
   "execution_count": 148,
   "id": "f8ed125f-b7dd-476e-ac51-35f663a80473",
   "metadata": {},
   "outputs": [
    {
     "name": "stdout",
     "output_type": "stream",
     "text": [
      "\u001b[1m8596/8596\u001b[0m \u001b[32m━━━━━━━━━━━━━━━━━━━━\u001b[0m\u001b[37m\u001b[0m \u001b[1m5s\u001b[0m 595us/step\n",
      "Neural Network Classification Report:\n",
      "                   precision    recall  f1-score   support\n",
      "\n",
      "      Arrest Made       0.56      0.30      0.39      5030\n",
      "Arrest by Warrant       0.67      0.58      0.63      2387\n",
      "Criminal Citation       0.20      0.00      0.00      2901\n",
      "            Other       0.97      0.99      0.98    264740\n",
      "\n",
      "         accuracy                           0.97    275058\n",
      "        macro avg       0.60      0.47      0.50    275058\n",
      "     weighted avg       0.96      0.97      0.96    275058\n",
      "\n"
     ]
    }
   ],
   "source": [
    "# Make predictions\n",
    "y_pred_nn_2 = mlp_model_improved.predict(X_test_scaled)\n",
    "y_pred_nn_2_classes = np.argmax(y_pred_nn_2, axis=1)\n",
    "\n",
    "# Classification report\n",
    "print(\"Neural Network Classification Report:\")\n",
    "print(classification_report(y_test, y_pred_nn_2_classes, zero_division=0, target_names=label_names))"
   ]
  },
  {
   "cell_type": "markdown",
   "id": "a0895fb7-3e0a-4794-80f2-ac97465dc99b",
   "metadata": {},
   "source": [
    "## MLP #3"
   ]
  },
  {
   "cell_type": "code",
   "execution_count": 157,
   "id": "a0c3b635-f9fa-4288-8e60-ee433244167a",
   "metadata": {},
   "outputs": [],
   "source": [
    "def build_model(hp):\n",
    "    model = keras.Sequential()\n",
    "    model.add(keras.layers.InputLayer(shape=(X_train_scaled.shape[1],)))\n",
    "    \n",
    "    # Tune the number of layers\n",
    "    for i in range(hp.Int('num_layers', 1, 5)):\n",
    "        model.add(keras.layers.Dense(\n",
    "            units=hp.Int(f'units_{i}', min_value=32, max_value=1024, step=32),\n",
    "            activation='relu'\n",
    "        ))\n",
    "        model.add(keras.layers.Dropout(hp.Float(f'dropout_{i}', 0, 0.5, step=0.1)))\n",
    "    \n",
    "    model.add(keras.layers.Dense(len(np.unique(y_train)), activation='softmax'))\n",
    "    \n",
    "    model.compile(\n",
    "        optimizer=keras.optimizers.Adam(hp.Float('learning_rate', 1e-4, 1e-2, sampling='log')),\n",
    "        loss='sparse_categorical_crossentropy',\n",
    "        metrics=['accuracy']\n",
    "    )\n",
    "    return model"
   ]
  },
  {
   "cell_type": "code",
   "execution_count": null,
   "id": "5f337661-4d52-458a-a711-959d1556eb6e",
   "metadata": {},
   "outputs": [
    {
     "name": "stdout",
     "output_type": "stream",
     "text": [
      "Trial 66 Complete [00h 19m 02s]\n",
      "val_accuracy: 0.9691929221153259\n",
      "\n",
      "Best val_accuracy So Far: 0.9698246121406555\n",
      "Total elapsed time: 08h 10m 59s\n",
      "\n",
      "Search: Running Trial #67\n",
      "\n",
      "Value             |Best Value So Far |Hyperparameter\n",
      "3                 |5                 |num_layers\n",
      "896               |64                |units_0\n",
      "0.1               |0.2               |dropout_0\n",
      "0.00032848        |0.00011137        |learning_rate\n",
      "576               |64                |units_1\n",
      "0.3               |0.1               |dropout_1\n",
      "800               |576               |units_2\n",
      "0.4               |0.4               |dropout_2\n",
      "928               |96                |units_3\n",
      "0.2               |0.1               |dropout_3\n",
      "608               |416               |units_4\n",
      "0.3               |0.1               |dropout_4\n",
      "17                |50                |tuner/epochs\n",
      "6                 |17                |tuner/initial_epoch\n",
      "2                 |3                 |tuner/bracket\n",
      "1                 |3                 |tuner/round\n",
      "0065              |0047              |tuner/trial_id\n",
      "\n",
      "Epoch 7/17\n",
      "\u001b[1m27506/27506\u001b[0m \u001b[32m━━━━━━━━━━━━━━━━━━━━\u001b[0m\u001b[37m\u001b[0m \u001b[1m192s\u001b[0m 7ms/step - accuracy: 0.9669 - loss: 0.1357 - val_accuracy: 0.9644 - val_loss: 0.1340\n",
      "Epoch 8/17\n",
      "\u001b[1m15914/27506\u001b[0m \u001b[32m━━━━━━━━━━━\u001b[0m\u001b[37m━━━━━━━━━\u001b[0m \u001b[1m1:17\u001b[0m 7ms/step - accuracy: 0.9675 - loss: 0.1358"
     ]
    }
   ],
   "source": [
    "tuner = kt.Hyperband(\n",
    "    build_model,\n",
    "    objective='val_accuracy',\n",
    "    max_epochs=50,\n",
    "    factor=3,\n",
    "    directory='my_dir',\n",
    "    project_name='mlp_tuning_2'\n",
    ")\n",
    "\n",
    "tuner.search(X_train_scaled, y_train, epochs=50, validation_split=0.2)"
   ]
  },
  {
   "cell_type": "code",
   "execution_count": 159,
   "id": "aee47ad1-4d82-4674-a745-ec869815daa7",
   "metadata": {},
   "outputs": [
    {
     "name": "stdout",
     "output_type": "stream",
     "text": [
      "Reloading Tuner from my_dir/mlp_tuning_2/tuner0.json\n"
     ]
    },
    {
     "name": "stderr",
     "output_type": "stream",
     "text": [
      "/opt/anaconda3/lib/python3.12/site-packages/keras/src/saving/saving_lib.py:713: UserWarning: Skipping variable loading for optimizer 'adam', because it has 2 variables whereas the saved optimizer has 26 variables. \n",
      "  saveable.load_own_variables(weights_store.get(inner_path))\n"
     ]
    }
   ],
   "source": [
    "tuner = kt.Hyperband(\n",
    "    build_model,\n",
    "    objective='val_accuracy',\n",
    "    max_epochs=50,\n",
    "    factor=3,\n",
    "    directory='my_dir',\n",
    "    project_name='mlp_tuning_2'\n",
    ")\n",
    "\n",
    "best_model = tuner.get_best_models(num_models=1)[0]"
   ]
  },
  {
   "cell_type": "code",
   "execution_count": 161,
   "id": "e23edc16-9608-4e18-9b28-4491bf5053b5",
   "metadata": {},
   "outputs": [
    {
     "name": "stdout",
     "output_type": "stream",
     "text": [
      "\u001b[1m8596/8596\u001b[0m \u001b[32m━━━━━━━━━━━━━━━━━━━━\u001b[0m\u001b[37m\u001b[0m \u001b[1m4s\u001b[0m 430us/step\n",
      "MLP #3 Classification Report:\n",
      "                   precision    recall  f1-score   support\n",
      "\n",
      "      Arrest Made       0.63      0.25      0.36      5030\n",
      "Arrest by Warrant       0.69      0.59      0.64      2387\n",
      "Criminal Citation       0.50      0.29      0.36      2901\n",
      "            Other       0.98      0.99      0.99    264740\n",
      "\n",
      "         accuracy                           0.97    275058\n",
      "        macro avg       0.70      0.53      0.59    275058\n",
      "     weighted avg       0.96      0.97      0.96    275058\n",
      "\n"
     ]
    }
   ],
   "source": [
    "# Make predictions\n",
    "y_pred_mlp_3 = best_model.predict(X_test_scaled)\n",
    "y_pred_mlp_3_classes = np.argmax(y_pred_mlp_3, axis=1)\n",
    "\n",
    "mlp_3_accuracy = accuracy_score(y_test, y_pred_mlp_3_classes)\n",
    "mlp_3_recall = recall_score(y_test, y_pred_mlp_3_classes, average='macro')\n",
    "mlp_3_prec = precision_score(y_test, y_pred_mlp_3_classes, average='macro')\n",
    "mlp_3_f1 = f1_score(y_test, y_pred_mlp_3_classes, average='macro')\n",
    "\n",
    "# Classification report\n",
    "print(\"MLP #3 Classification Report:\")\n",
    "print(classification_report(y_test, y_pred_mlp_3_classes, zero_division=0, target_names=label_names))"
   ]
  },
  {
   "cell_type": "code",
   "execution_count": null,
   "id": "cbbbc0ee-fdf8-4278-b442-7dfede77650f",
   "metadata": {},
   "outputs": [],
   "source": []
  },
  {
   "cell_type": "markdown",
   "id": "8337af28-d9fc-4c85-b394-c8f3b4f57fb5",
   "metadata": {},
   "source": [
    "### Convolutional Neural Network"
   ]
  },
  {
   "cell_type": "code",
   "execution_count": 165,
   "id": "5b498a02-c569-49ab-a30e-ee9719231451",
   "metadata": {},
   "outputs": [],
   "source": [
    "# Reshape the data to be 3D for 1D CNN: (samples, time steps, channels)\n",
    "# Time steps = number of features, channels = 1\n",
    "X_train_cnn = X_train_scaled.reshape((X_train_scaled.shape[0], X_train_scaled.shape[1], 1))\n",
    "X_test_cnn = X_test_scaled.reshape((X_test_scaled.shape[0], X_test_scaled.shape[1], 1))\n",
    "\n",
    "# Build the CNN model\n",
    "cnn_model = models.Sequential()\n",
    "cnn_model.add(layers.Input(shape=(X_train_cnn.shape[1], 1)))\n",
    "cnn_model.add(layers.Conv1D(filters=128, kernel_size=5, activation='relu'))\n",
    "cnn_model.add(layers.MaxPooling1D(pool_size=2))\n",
    "cnn_model.add(layers.Conv1D(filters=32, kernel_size=5, activation='relu'))\n",
    "cnn_model.add(layers.MaxPooling1D(pool_size=2))\n",
    "cnn_model.add(layers.Flatten())\n",
    "cnn_model.add(layers.Dense(100, activation='relu'))\n",
    "cnn_model.add(layers.Dense(len(np.unique(y_train)), activation='softmax'))\n",
    "cnn_model.compile(optimizer='adam', loss='sparse_categorical_crossentropy', metrics=['accuracy'])"
   ]
  },
  {
   "cell_type": "code",
   "execution_count": 167,
   "id": "ad6429f9-a64f-4bbb-8716-6444d19ac357",
   "metadata": {},
   "outputs": [
    {
     "name": "stdout",
     "output_type": "stream",
     "text": [
      "Epoch 1/10\n",
      "\u001b[1m6877/6877\u001b[0m \u001b[32m━━━━━━━━━━━━━━━━━━━━\u001b[0m\u001b[37m\u001b[0m \u001b[1m225s\u001b[0m 33ms/step - accuracy: 0.9665 - loss: 0.1331 - val_accuracy: 0.9693 - val_loss: 0.1169\n",
      "Epoch 2/10\n",
      "\u001b[1m6877/6877\u001b[0m \u001b[32m━━━━━━━━━━━━━━━━━━━━\u001b[0m\u001b[37m\u001b[0m \u001b[1m235s\u001b[0m 34ms/step - accuracy: 0.9691 - loss: 0.1154 - val_accuracy: 0.9693 - val_loss: 0.1159\n",
      "Epoch 3/10\n",
      "\u001b[1m6877/6877\u001b[0m \u001b[32m━━━━━━━━━━━━━━━━━━━━\u001b[0m\u001b[37m\u001b[0m \u001b[1m299s\u001b[0m 44ms/step - accuracy: 0.9693 - loss: 0.1146 - val_accuracy: 0.9693 - val_loss: 0.1157\n",
      "Epoch 4/10\n",
      "\u001b[1m6877/6877\u001b[0m \u001b[32m━━━━━━━━━━━━━━━━━━━━\u001b[0m\u001b[37m\u001b[0m \u001b[1m328s\u001b[0m 48ms/step - accuracy: 0.9695 - loss: 0.1137 - val_accuracy: 0.9696 - val_loss: 0.1147\n",
      "Epoch 5/10\n",
      "\u001b[1m6877/6877\u001b[0m \u001b[32m━━━━━━━━━━━━━━━━━━━━\u001b[0m\u001b[37m\u001b[0m \u001b[1m349s\u001b[0m 51ms/step - accuracy: 0.9693 - loss: 0.1142 - val_accuracy: 0.9695 - val_loss: 0.1150\n",
      "Epoch 6/10\n",
      "\u001b[1m6877/6877\u001b[0m \u001b[32m━━━━━━━━━━━━━━━━━━━━\u001b[0m\u001b[37m\u001b[0m \u001b[1m333s\u001b[0m 48ms/step - accuracy: 0.9700 - loss: 0.1115 - val_accuracy: 0.9694 - val_loss: 0.1160\n",
      "Epoch 7/10\n",
      "\u001b[1m6877/6877\u001b[0m \u001b[32m━━━━━━━━━━━━━━━━━━━━\u001b[0m\u001b[37m\u001b[0m \u001b[1m323s\u001b[0m 47ms/step - accuracy: 0.9699 - loss: 0.1115 - val_accuracy: 0.9693 - val_loss: 0.1154\n"
     ]
    },
    {
     "data": {
      "text/plain": [
       "<keras.src.callbacks.history.History at 0x37bbc9ac0>"
      ]
     },
     "execution_count": 167,
     "metadata": {},
     "output_type": "execute_result"
    }
   ],
   "source": [
    "cnn_model.fit(X_train_cnn, y_train, epochs=10, batch_size=128, validation_split=0.2,\n",
    "             callbacks=[early_stopping, model_checkpoint])"
   ]
  },
  {
   "cell_type": "code",
   "execution_count": 168,
   "id": "f1a734da-e2da-4ca4-81db-e6721fec5afe",
   "metadata": {},
   "outputs": [
    {
     "name": "stdout",
     "output_type": "stream",
     "text": [
      "\u001b[1m8596/8596\u001b[0m \u001b[32m━━━━━━━━━━━━━━━━━━━━\u001b[0m\u001b[37m\u001b[0m \u001b[1m37s\u001b[0m 4ms/step - accuracy: 0.9693 - loss: 0.1161\n",
      "Test Accuracy: 0.97\n"
     ]
    }
   ],
   "source": [
    "test_loss, test_acc = cnn_model.evaluate(X_test_cnn, y_test)\n",
    "cnn_accuracy = test_acc\n",
    "print(f\"Test Accuracy: {test_acc:.2f}\")"
   ]
  },
  {
   "cell_type": "code",
   "execution_count": 169,
   "id": "bfd54fd0-d1a5-43bd-a29a-3e97b18927ad",
   "metadata": {},
   "outputs": [
    {
     "name": "stdout",
     "output_type": "stream",
     "text": [
      "\u001b[1m8596/8596\u001b[0m \u001b[32m━━━━━━━━━━━━━━━━━━━━\u001b[0m\u001b[37m\u001b[0m \u001b[1m38s\u001b[0m 4ms/step\n",
      "CNN Recall 0.5230614518421784\n",
      "CNN Classification Report:\n",
      "                   precision    recall  f1-score   support\n",
      "\n",
      "      Arrest Made       0.62      0.26      0.36      5030\n",
      "Arrest by Warrant       0.70      0.59      0.64      2387\n",
      "Criminal Citation       0.48      0.25      0.33      2901\n",
      "            Other       0.98      0.99      0.99    264740\n",
      "\n",
      "         accuracy                           0.97    275058\n",
      "        macro avg       0.69      0.52      0.58    275058\n",
      "     weighted avg       0.96      0.97      0.96    275058\n",
      "\n"
     ]
    }
   ],
   "source": [
    "# Make predictions\n",
    "y_pred_cnn = cnn_model.predict(X_test_cnn)\n",
    "y_pred_cnn_classes = np.argmax(y_pred_cnn, axis=1)\n",
    "\n",
    "cnn_recall = recall_score(y_test, y_pred_cnn_classes, average='macro')\n",
    "cnn_prec = precision_score(y_test, y_pred_cnn_classes, average='macro')\n",
    "cnn_f1 = f1_score(y_test, y_pred_cnn_classes, average='macro')\n",
    "\n",
    "# Classification report\n",
    "print(f\"CNN Recall {cnn_recall}\")\n",
    "print(\"CNN Classification Report:\")\n",
    "print(classification_report(y_test, y_pred_cnn_classes, zero_division=0, target_names=label_names))"
   ]
  },
  {
   "cell_type": "markdown",
   "id": "006f3da5-f403-4190-8999-f4e9ae395086",
   "metadata": {},
   "source": [
    "### CNN #2\n",
    "Trying out a slightly different convolutional neural network."
   ]
  },
  {
   "cell_type": "code",
   "execution_count": 171,
   "id": "0cddc0a7-a43d-4388-a95e-9aa833d4ac4e",
   "metadata": {},
   "outputs": [],
   "source": [
    "# Build the CNN model\n",
    "cnn_model_2 = models.Sequential()\n",
    "cnn_model_2.add(layers.Input(shape=(X_train_cnn.shape[1], 1)))\n",
    "cnn_model_2.add(layers.Conv1D(filters=128, kernel_size=5, activation='relu'))\n",
    "cnn_model_2.add(layers.MaxPooling1D(pool_size=2))\n",
    "cnn_model_2.add(layers.Conv1D(filters=64, kernel_size=5, activation='relu'))\n",
    "cnn_model_2.add(layers.MaxPooling1D(pool_size=2))\n",
    "cnn_model_2.add(layers.Conv1D(filters=32, kernel_size=3, activation='relu'))\n",
    "cnn_model_2.add(layers.MaxPooling1D(pool_size=2))\n",
    "cnn_model_2.add(layers.Flatten())\n",
    "cnn_model_2.add(layers.Dense(100, activation='relu'))\n",
    "cnn_model_2.add(layers.Dense(len(np.unique(y_train)), activation='softmax'))\n",
    "cnn_model_2.compile(optimizer='adam', loss='sparse_categorical_crossentropy', metrics=['accuracy'])"
   ]
  },
  {
   "cell_type": "code",
   "execution_count": 172,
   "id": "faebcd05-c317-4b3f-b75f-08889750060f",
   "metadata": {},
   "outputs": [
    {
     "name": "stdout",
     "output_type": "stream",
     "text": [
      "Epoch 1/10\n",
      "\u001b[1m6877/6877\u001b[0m \u001b[32m━━━━━━━━━━━━━━━━━━━━\u001b[0m\u001b[37m\u001b[0m \u001b[1m454s\u001b[0m 66ms/step - accuracy: 0.9667 - loss: 0.1339 - val_accuracy: 0.9687 - val_loss: 0.1176\n",
      "Epoch 2/10\n",
      "\u001b[1m6877/6877\u001b[0m \u001b[32m━━━━━━━━━━━━━━━━━━━━\u001b[0m\u001b[37m\u001b[0m \u001b[1m419s\u001b[0m 61ms/step - accuracy: 0.9686 - loss: 0.1178 - val_accuracy: 0.9688 - val_loss: 0.1172\n",
      "Epoch 3/10\n",
      "\u001b[1m6877/6877\u001b[0m \u001b[32m━━━━━━━━━━━━━━━━━━━━\u001b[0m\u001b[37m\u001b[0m \u001b[1m416s\u001b[0m 61ms/step - accuracy: 0.9690 - loss: 0.1154 - val_accuracy: 0.9690 - val_loss: 0.1155\n"
     ]
    },
    {
     "data": {
      "text/plain": [
       "<keras.src.callbacks.history.History at 0x36fe0e270>"
      ]
     },
     "execution_count": 172,
     "metadata": {},
     "output_type": "execute_result"
    }
   ],
   "source": [
    "cnn_model_2.fit(X_train_cnn, y_train, epochs=10, batch_size=128, validation_split=0.2,\n",
    "                callbacks=[early_stopping, model_checkpoint])"
   ]
  },
  {
   "cell_type": "code",
   "execution_count": 173,
   "id": "2a814f9b-0104-4325-ada7-a52d4d22d0c1",
   "metadata": {},
   "outputs": [
    {
     "name": "stdout",
     "output_type": "stream",
     "text": [
      "\u001b[1m8596/8596\u001b[0m \u001b[32m━━━━━━━━━━━━━━━━━━━━\u001b[0m\u001b[37m\u001b[0m \u001b[1m46s\u001b[0m 5ms/step\n",
      "CNN2 Recall 0.4871836737849423\n",
      "CNN Classification Report:\n",
      "                   precision    recall  f1-score   support\n",
      "\n",
      "      Arrest Made       0.54      0.28      0.37      5030\n",
      "Arrest by Warrant       0.69      0.58      0.63      2387\n",
      "Criminal Citation       0.53      0.09      0.15      2901\n",
      "            Other       0.98      0.99      0.99    264740\n",
      "\n",
      "         accuracy                           0.97    275058\n",
      "        macro avg       0.69      0.49      0.54    275058\n",
      "     weighted avg       0.96      0.97      0.96    275058\n",
      "\n"
     ]
    }
   ],
   "source": [
    "# Make predictions\n",
    "y_pred_cnn_2 = cnn_model_2.predict(X_test_cnn)\n",
    "y_pred_cnn_2_classes = np.argmax(y_pred_cnn_2, axis=1)\n",
    "\n",
    "cnn_2_accuracy = accuracy_score(y_test, y_pred_cnn_2_classes)\n",
    "cnn_2_recall = recall_score(y_test, y_pred_cnn_2_classes, average='macro')\n",
    "cnn_2_prec = precision_score(y_test, y_pred_cnn_2_classes, average='macro')\n",
    "cnn_2_f1 = f1_score(y_test, y_pred_cnn_2_classes, average='macro')\n",
    "\n",
    "# Classification report\n",
    "print(f\"CNN2 Recall {cnn_2_recall}\")\n",
    "print(\"CNN Classification Report:\")\n",
    "print(classification_report(y_test, y_pred_cnn_2_classes, zero_division=0, target_names=label_names))"
   ]
  },
  {
   "cell_type": "markdown",
   "id": "accf321a-cd4b-41f4-adb3-1482ecb888cb",
   "metadata": {},
   "source": [
    "### CNN #3"
   ]
  },
  {
   "cell_type": "code",
   "execution_count": 175,
   "id": "1ef0f56f-dc90-44dd-bb7b-fdce0d468906",
   "metadata": {},
   "outputs": [],
   "source": [
    "cnn_model_3 = models.Sequential()\n",
    "cnn_model_3.add(layers.Input(shape=(X_train_cnn.shape[1], 1)))\n",
    "cnn_model_3.add(layers.Conv1D(filters=128, kernel_size=5, activation='relu'))\n",
    "cnn_model_3.add(layers.MaxPooling1D(pool_size=2))\n",
    "cnn_model_3.add(layers.Conv1D(filters=64, kernel_size=5, activation='relu'))\n",
    "cnn_model_3.add(layers.Dropout(0.5))  # Add after Conv or Dense layers\n",
    "cnn_model_3.add(layers.MaxPooling1D(pool_size=2))\n",
    "cnn_model_3.add(layers.Conv1D(filters=64, kernel_size=5, activation='relu'))\n",
    "cnn_model_3.add(layers.Dropout(0.5))  # Add after Conv or Dense layers\n",
    "cnn_model_3.add(layers.MaxPooling1D(pool_size=2))\n",
    "cnn_model_3.add(layers.Flatten())\n",
    "cnn_model_3.add(layers.Dense(100, activation='relu'))\n",
    "cnn_model_3.add(layers.Dense(len(np.unique(y_train)), activation='softmax'))\n",
    "cnn_model_3.compile(optimizer='adam', loss='sparse_categorical_crossentropy', metrics=['accuracy'])"
   ]
  },
  {
   "cell_type": "code",
   "execution_count": 176,
   "id": "02078ea7-418c-4af9-8f04-859f00950b7a",
   "metadata": {},
   "outputs": [
    {
     "name": "stdout",
     "output_type": "stream",
     "text": [
      "Epoch 1/10\n",
      "\u001b[1m3439/3439\u001b[0m \u001b[32m━━━━━━━━━━━━━━━━━━━━\u001b[0m\u001b[37m\u001b[0m \u001b[1m474s\u001b[0m 137ms/step - accuracy: 0.9636 - loss: 0.1472 - val_accuracy: 0.9689 - val_loss: 0.1437\n",
      "Epoch 2/10\n",
      "\u001b[1m3439/3439\u001b[0m \u001b[32m━━━━━━━━━━━━━━━━━━━━\u001b[0m\u001b[37m\u001b[0m \u001b[1m476s\u001b[0m 138ms/step - accuracy: 0.9679 - loss: 0.1221 - val_accuracy: 0.9691 - val_loss: 0.1364\n",
      "Epoch 3/10\n",
      "\u001b[1m3439/3439\u001b[0m \u001b[32m━━━━━━━━━━━━━━━━━━━━\u001b[0m\u001b[37m\u001b[0m \u001b[1m478s\u001b[0m 139ms/step - accuracy: 0.9684 - loss: 0.1195 - val_accuracy: 0.9688 - val_loss: 0.1248\n"
     ]
    },
    {
     "data": {
      "text/plain": [
       "<keras.src.callbacks.history.History at 0x37c047dd0>"
      ]
     },
     "execution_count": 176,
     "metadata": {},
     "output_type": "execute_result"
    }
   ],
   "source": [
    "cnn_model_3.fit(X_train_cnn, y_train, epochs=10, batch_size=256, validation_split=0.2,\n",
    "               callbacks=[early_stopping, model_checkpoint])"
   ]
  },
  {
   "cell_type": "code",
   "execution_count": 177,
   "id": "e2900891-a95b-4014-af34-228cc4225f21",
   "metadata": {},
   "outputs": [
    {
     "name": "stdout",
     "output_type": "stream",
     "text": [
      "\u001b[1m8596/8596\u001b[0m \u001b[32m━━━━━━━━━━━━━━━━━━━━\u001b[0m\u001b[37m\u001b[0m \u001b[1m56s\u001b[0m 6ms/step\n",
      "CNN3 F1 0.5650677936156169\n",
      "CNN Classification Report:\n",
      "                   precision    recall  f1-score   support\n",
      "\n",
      "      Arrest Made       0.63      0.23      0.33      5030\n",
      "Arrest by Warrant       0.68      0.59      0.63      2387\n",
      "Criminal Citation       0.45      0.23      0.31      2901\n",
      "            Other       0.98      0.99      0.99    264740\n",
      "\n",
      "         accuracy                           0.97    275058\n",
      "        macro avg       0.68      0.51      0.57    275058\n",
      "     weighted avg       0.96      0.97      0.96    275058\n",
      "\n"
     ]
    }
   ],
   "source": [
    "# Make predictions\n",
    "y_pred_cnn_3 = cnn_model_3.predict(X_test_cnn)\n",
    "y_pred_cnn_3_classes = np.argmax(y_pred_cnn_3, axis=1)\n",
    "\n",
    "cnn_3_accuracy = accuracy_score(y_test, y_pred_cnn_3_classes)\n",
    "cnn_3_recall = recall_score(y_test, y_pred_cnn_3_classes, average='macro')\n",
    "cnn_3_prec = precision_score(y_test, y_pred_cnn_3_classes, average='macro')\n",
    "cnn_3_f1 = f1_score(y_test, y_pred_cnn_3_classes, average='macro')\n",
    "\n",
    "# Classification report\n",
    "print(f\"CNN3 F1 {cnn_3_f1}\")\n",
    "print(\"CNN Classification Report:\")\n",
    "print(classification_report(y_test, y_pred_cnn_3_classes, zero_division=0, target_names=label_names))"
   ]
  },
  {
   "cell_type": "code",
   "execution_count": null,
   "id": "4dc91e23-41fd-4d1b-b963-00a77238be2a",
   "metadata": {},
   "outputs": [],
   "source": []
  },
  {
   "cell_type": "markdown",
   "id": "b1b960b6-0506-440f-b7d8-ad9906f30984",
   "metadata": {},
   "source": [
    "## Results"
   ]
  },
  {
   "cell_type": "code",
   "execution_count": 203,
   "id": "795d86f3-8ca0-4b70-b9d2-375dc168bdf9",
   "metadata": {},
   "outputs": [
    {
     "data": {
      "text/html": [
       "<div>\n",
       "<style scoped>\n",
       "    .dataframe tbody tr th:only-of-type {\n",
       "        vertical-align: middle;\n",
       "    }\n",
       "\n",
       "    .dataframe tbody tr th {\n",
       "        vertical-align: top;\n",
       "    }\n",
       "\n",
       "    .dataframe thead th {\n",
       "        text-align: right;\n",
       "    }\n",
       "</style>\n",
       "<table border=\"1\" class=\"dataframe\">\n",
       "  <thead>\n",
       "    <tr style=\"text-align: right;\">\n",
       "      <th></th>\n",
       "      <th>Accuracy</th>\n",
       "      <th>Recall</th>\n",
       "      <th>Precision</th>\n",
       "      <th>F1-score</th>\n",
       "    </tr>\n",
       "    <tr>\n",
       "      <th>Model</th>\n",
       "      <th></th>\n",
       "      <th></th>\n",
       "      <th></th>\n",
       "      <th></th>\n",
       "    </tr>\n",
       "  </thead>\n",
       "  <tbody>\n",
       "    <tr>\n",
       "      <th>Baseline</th>\n",
       "      <td>0.962488</td>\n",
       "      <td>0.250000</td>\n",
       "      <td>0.240622</td>\n",
       "      <td>0.245221</td>\n",
       "    </tr>\n",
       "    <tr>\n",
       "      <th>Logistic Regression</th>\n",
       "      <td>0.969396</td>\n",
       "      <td>0.513951</td>\n",
       "      <td>0.691921</td>\n",
       "      <td>0.571131</td>\n",
       "    </tr>\n",
       "    <tr>\n",
       "      <th>Random Forest</th>\n",
       "      <td>0.957442</td>\n",
       "      <td>0.503261</td>\n",
       "      <td>0.521498</td>\n",
       "      <td>0.507291</td>\n",
       "    </tr>\n",
       "    <tr>\n",
       "      <th>MLP1</th>\n",
       "      <td>0.968847</td>\n",
       "      <td>0.503827</td>\n",
       "      <td>0.688551</td>\n",
       "      <td>0.562082</td>\n",
       "    </tr>\n",
       "    <tr>\n",
       "      <th>MLP2</th>\n",
       "      <td>0.967549</td>\n",
       "      <td>0.469603</td>\n",
       "      <td>0.600936</td>\n",
       "      <td>0.500041</td>\n",
       "    </tr>\n",
       "    <tr>\n",
       "      <th>MLP3</th>\n",
       "      <td>0.969923</td>\n",
       "      <td>0.529908</td>\n",
       "      <td>0.699869</td>\n",
       "      <td>0.586328</td>\n",
       "    </tr>\n",
       "    <tr>\n",
       "      <th>CNN1</th>\n",
       "      <td>0.969595</td>\n",
       "      <td>0.523061</td>\n",
       "      <td>0.692655</td>\n",
       "      <td>0.579459</td>\n",
       "    </tr>\n",
       "    <tr>\n",
       "      <th>CNN2</th>\n",
       "      <td>0.968741</td>\n",
       "      <td>0.487184</td>\n",
       "      <td>0.685626</td>\n",
       "      <td>0.535631</td>\n",
       "    </tr>\n",
       "    <tr>\n",
       "      <th>CNN3</th>\n",
       "      <td>0.968970</td>\n",
       "      <td>0.511344</td>\n",
       "      <td>0.684971</td>\n",
       "      <td>0.565068</td>\n",
       "    </tr>\n",
       "  </tbody>\n",
       "</table>\n",
       "</div>"
      ],
      "text/plain": [
       "                     Accuracy    Recall  Precision  F1-score\n",
       "Model                                                       \n",
       "Baseline             0.962488  0.250000   0.240622  0.245221\n",
       "Logistic Regression  0.969396  0.513951   0.691921  0.571131\n",
       "Random Forest        0.957442  0.503261   0.521498  0.507291\n",
       "MLP1                 0.968847  0.503827   0.688551  0.562082\n",
       "MLP2                 0.967549  0.469603   0.600936  0.500041\n",
       "MLP3                 0.969923  0.529908   0.699869  0.586328\n",
       "CNN1                 0.969595  0.523061   0.692655  0.579459\n",
       "CNN2                 0.968741  0.487184   0.685626  0.535631\n",
       "CNN3                 0.968970  0.511344   0.684971  0.565068"
      ]
     },
     "execution_count": 203,
     "metadata": {},
     "output_type": "execute_result"
    }
   ],
   "source": [
    "baseline_accuracy = accuracy_score(y_test, y_pred_baseline)\n",
    "lr_accuracy = accuracy_score(y_test, y_pred_best_lr)\n",
    "rf_accuracy = accuracy_score(y_test, y_pred_best_rf)\n",
    "mlp_accuracy = accuracy_score(y_test, y_pred_nn_classes)\n",
    "mlp_2_accuracy = accuracy_score(y_test, y_pred_nn_2_classes)\n",
    "\n",
    "baseline_recall = recall_score(y_test, y_pred_baseline, average='macro')\n",
    "lr_recall = recall_score(y_test, y_pred_best_lr, average='macro')\n",
    "rf_recall = recall_score(y_test, y_pred_best_rf, average='macro')\n",
    "mlp_recall = recall_score(y_test, y_pred_nn_classes, average='macro')\n",
    "mlp_2_recall = recall_score(y_test, y_pred_nn_2_classes, average='macro')\n",
    "\n",
    "baseline_prec = precision_score(y_test, y_pred_baseline, average='macro', zero_division=0)\n",
    "lr_prec = precision_score(y_test, y_pred_best_lr, average='macro', zero_division=0)\n",
    "rf_prec = precision_score(y_test, y_pred_best_rf, average='macro', zero_division=0)\n",
    "mlp_prec = precision_score(y_test, y_pred_nn_classes, average='macro', zero_division=0)\n",
    "mlp_2_prec = precision_score(y_test, y_pred_nn_2_classes, average='macro', zero_division=0)\n",
    "\n",
    "baseline_f1 = f1_score(y_test, y_pred_baseline, average='macro')\n",
    "lr_f1 = f1_score(y_test, y_pred_best_lr, average='macro')\n",
    "rf_f1 = f1_score(y_test, y_pred_best_rf, average='macro')\n",
    "mlp_f1 = f1_score(y_test, y_pred_nn_classes, average='macro')\n",
    "mlp_2_f1 = f1_score(y_test, y_pred_nn_2_classes, average='macro')\n",
    "\n",
    "results = pd.DataFrame({\n",
    "    'Model': ['Baseline', 'Logistic Regression', 'Random Forest', 'MLP1', 'MLP2', 'MLP3', 'CNN1', 'CNN2', 'CNN3'],\n",
    "    'Accuracy': [baseline_accuracy, lr_accuracy, rf_accuracy, mlp_accuracy, mlp_2_accuracy, mlp_3_accuracy, cnn_accuracy, cnn_2_accuracy, cnn_3_accuracy],\n",
    "    'Recall': [baseline_recall, lr_recall, rf_recall, mlp_recall, mlp_2_recall, mlp_3_recall, cnn_recall, cnn_2_recall, cnn_3_recall],\n",
    "    'Precision': [baseline_prec, lr_prec, rf_prec, mlp_prec, mlp_2_prec, mlp_3_prec, cnn_prec, cnn_2_prec, cnn_3_prec],\n",
    "    'F1-score': [baseline_f1, lr_f1, rf_f1, mlp_f1, mlp_2_f1, mlp_3_f1, cnn_f1, cnn_2_f1, cnn_3_f1]\n",
    "})\n",
    "results.set_index('Model')"
   ]
  },
  {
   "cell_type": "code",
   "execution_count": null,
   "id": "8d66b29d-c10b-4b45-8658-9cfffd86c086",
   "metadata": {},
   "outputs": [],
   "source": []
  }
 ],
 "metadata": {
  "kernelspec": {
   "display_name": "Python 3 (ipykernel)",
   "language": "python",
   "name": "python3"
  },
  "language_info": {
   "codemirror_mode": {
    "name": "ipython",
    "version": 3
   },
   "file_extension": ".py",
   "mimetype": "text/x-python",
   "name": "python",
   "nbconvert_exporter": "python",
   "pygments_lexer": "ipython3",
   "version": "3.12.4"
  }
 },
 "nbformat": 4,
 "nbformat_minor": 5
}
